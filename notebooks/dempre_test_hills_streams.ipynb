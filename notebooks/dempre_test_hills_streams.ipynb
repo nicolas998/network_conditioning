{
 "cells": [
  {
   "cell_type": "code",
   "execution_count": 1,
   "id": "aff3fde4-45c3-4c35-9273-8014ede0b7a4",
   "metadata": {
    "tags": []
   },
   "outputs": [],
   "source": [
    "import geopandas as gp \n",
    "import pylab as pl \n",
    "import numpy as np "
   ]
  },
  {
   "cell_type": "code",
   "execution_count": 21,
   "id": "69e7e354-4176-464c-8076-b40cd2d86814",
   "metadata": {
    "tags": []
   },
   "outputs": [],
   "source": [
    "n = gp.read_file('../maps/demnet.shp')\n",
    "h = gp.read_file('../maps/hills.shp')"
   ]
  },
  {
   "cell_type": "code",
   "execution_count": null,
   "id": "ca96c258-0267-4146-b98c-0db014dfa69c",
   "metadata": {
    "tags": []
   },
   "outputs": [],
   "source": [
    "n.set_index('LINKNO', inplace = True)\n",
    "h.set_index('LINKNO', inplace = True)"
   ]
  },
  {
   "cell_type": "code",
   "execution_count": 25,
   "id": "c6fc8fe4-e662-4d5f-9e15-6422a22cda07",
   "metadata": {
    "tags": []
   },
   "outputs": [],
   "source": [
    "idx = n.index.intersection(h.index)"
   ]
  },
  {
   "cell_type": "code",
   "execution_count": 28,
   "id": "56ebf865-cf27-4108-ac77-9ca3ed4fd6ee",
   "metadata": {
    "tags": []
   },
   "outputs": [
    {
     "data": {
      "text/plain": [
       "(24178, 1)"
      ]
     },
     "execution_count": 28,
     "metadata": {},
     "output_type": "execute_result"
    }
   ],
   "source": [
    "h.shape"
   ]
  },
  {
   "cell_type": "code",
   "execution_count": 29,
   "id": "60f5259d-054c-4ca2-b0fb-f3dede775877",
   "metadata": {
    "tags": []
   },
   "outputs": [
    {
     "data": {
      "text/plain": [
       "Int64Index([ 4013,  4477,  4478,  4775,  5246,  5559,  5751,  5807,  6223,\n",
       "             6502,  6649,  6710,  6972,  7106,  7528,  7671,  7679,  7767,\n",
       "             7890,  7991,  8014,  8315,  8356,  8414,  8572,  8619,  8637,\n",
       "             8816,  8991,  8996,  9009,  9156,  9290,  9314,  9315,  9843,\n",
       "            10107, 10205, 10382, 10778, 10844, 11474, 45023, 48607],\n",
       "           dtype='int64', name='LINKNO')"
      ]
     },
     "execution_count": 29,
     "metadata": {},
     "output_type": "execute_result"
    }
   ],
   "source": [
    "n.index.difference(idx)"
   ]
  },
  {
   "cell_type": "code",
   "execution_count": 75,
   "id": "22889870-95bd-4874-b863-8db1d866d223",
   "metadata": {
    "tags": []
   },
   "outputs": [],
   "source": [
    "g = n.loc[4478,'geometry']"
   ]
  },
  {
   "cell_type": "code",
   "execution_count": null,
   "id": "88b5eb4c-3e7c-469a-a551-0526ecf769ad",
   "metadata": {
    "tags": []
   },
   "outputs": [],
   "source": [
    "g.xy[0][2]"
   ]
  },
  {
   "cell_type": "code",
   "execution_count": 78,
   "id": "e36e7792-188b-4bc1-acc1-7deb9d13ae98",
   "metadata": {
    "tags": []
   },
   "outputs": [
    {
     "data": {
      "text/plain": [
       "DSLINKNO                                                   4237\n",
       "USLINKNO1                                                  4238\n",
       "USLINKNO2                                                  7152\n",
       "DSNODEID                                                     -1\n",
       "strmOrder                                                     3\n",
       "Length                                                      0.0\n",
       "Magnitude                                                     4\n",
       "DSContArea                                             926300.0\n",
       "strmDrop                                                    0.0\n",
       "Slope                                                       0.0\n",
       "StraightL                                                   0.0\n",
       "USContArea                                             926300.0\n",
       "WSNO                                                       4013\n",
       "DOUTEND                                                 10224.6\n",
       "DOUTSTART                                               10224.6\n",
       "DOUTMID                                                 10224.6\n",
       "geometry      LINESTRING (467705.7626875472 4785516.33328390...\n",
       "Name: 4013, dtype: object"
      ]
     },
     "execution_count": 78,
     "metadata": {},
     "output_type": "execute_result"
    }
   ],
   "source": [
    "n.loc[4013]"
   ]
  },
  {
   "cell_type": "code",
   "execution_count": 81,
   "id": "66f6e95b-eff7-4b7e-af50-6f2ba27c81ae",
   "metadata": {
    "tags": []
   },
   "outputs": [
    {
     "data": {
      "text/html": [
       "<div>\n",
       "<style scoped>\n",
       "    .dataframe tbody tr th:only-of-type {\n",
       "        vertical-align: middle;\n",
       "    }\n",
       "\n",
       "    .dataframe tbody tr th {\n",
       "        vertical-align: top;\n",
       "    }\n",
       "\n",
       "    .dataframe thead th {\n",
       "        text-align: right;\n",
       "    }\n",
       "</style>\n",
       "<table border=\"1\" class=\"dataframe\">\n",
       "  <thead>\n",
       "    <tr style=\"text-align: right;\">\n",
       "      <th></th>\n",
       "      <th>DSLINKNO</th>\n",
       "      <th>USLINKNO1</th>\n",
       "      <th>USLINKNO2</th>\n",
       "      <th>DSNODEID</th>\n",
       "      <th>strmOrder</th>\n",
       "      <th>Length</th>\n",
       "      <th>Magnitude</th>\n",
       "      <th>DSContArea</th>\n",
       "      <th>strmDrop</th>\n",
       "      <th>Slope</th>\n",
       "      <th>StraightL</th>\n",
       "      <th>USContArea</th>\n",
       "      <th>WSNO</th>\n",
       "      <th>DOUTEND</th>\n",
       "      <th>DOUTSTART</th>\n",
       "      <th>DOUTMID</th>\n",
       "      <th>geometry</th>\n",
       "    </tr>\n",
       "    <tr>\n",
       "      <th>LINKNO</th>\n",
       "      <th></th>\n",
       "      <th></th>\n",
       "      <th></th>\n",
       "      <th></th>\n",
       "      <th></th>\n",
       "      <th></th>\n",
       "      <th></th>\n",
       "      <th></th>\n",
       "      <th></th>\n",
       "      <th></th>\n",
       "      <th></th>\n",
       "      <th></th>\n",
       "      <th></th>\n",
       "      <th></th>\n",
       "      <th></th>\n",
       "      <th></th>\n",
       "      <th></th>\n",
       "    </tr>\n",
       "  </thead>\n",
       "  <tbody>\n",
       "    <tr>\n",
       "      <th>4013</th>\n",
       "      <td>4237</td>\n",
       "      <td>4238</td>\n",
       "      <td>7152</td>\n",
       "      <td>-1</td>\n",
       "      <td>3</td>\n",
       "      <td>0.0</td>\n",
       "      <td>4</td>\n",
       "      <td>926300.0</td>\n",
       "      <td>0.0</td>\n",
       "      <td>0.0</td>\n",
       "      <td>0.0</td>\n",
       "      <td>926300.0</td>\n",
       "      <td>4013</td>\n",
       "      <td>10224.6</td>\n",
       "      <td>10224.6</td>\n",
       "      <td>10224.6</td>\n",
       "      <td>LINESTRING (467705.763 4785516.333, 467705.763...</td>\n",
       "    </tr>\n",
       "    <tr>\n",
       "      <th>2221</th>\n",
       "      <td>4237</td>\n",
       "      <td>-1</td>\n",
       "      <td>-1</td>\n",
       "      <td>-1</td>\n",
       "      <td>1</td>\n",
       "      <td>158.3</td>\n",
       "      <td>1</td>\n",
       "      <td>137000.0</td>\n",
       "      <td>0.0</td>\n",
       "      <td>0.0</td>\n",
       "      <td>151.3</td>\n",
       "      <td>93700.0</td>\n",
       "      <td>2221</td>\n",
       "      <td>10224.6</td>\n",
       "      <td>10382.9</td>\n",
       "      <td>10303.8</td>\n",
       "      <td>LINESTRING (467705.763 4785516.333, 467695.763...</td>\n",
       "    </tr>\n",
       "  </tbody>\n",
       "</table>\n",
       "</div>"
      ],
      "text/plain": [
       "        DSLINKNO  USLINKNO1  USLINKNO2  DSNODEID  strmOrder  Length  \\\n",
       "LINKNO                                                                \n",
       "4013        4237       4238       7152        -1          3     0.0   \n",
       "2221        4237         -1         -1        -1          1   158.3   \n",
       "\n",
       "        Magnitude  DSContArea  strmDrop  Slope  StraightL  USContArea  WSNO  \\\n",
       "LINKNO                                                                        \n",
       "4013            4    926300.0       0.0    0.0        0.0    926300.0  4013   \n",
       "2221            1    137000.0       0.0    0.0      151.3     93700.0  2221   \n",
       "\n",
       "        DOUTEND  DOUTSTART  DOUTMID  \\\n",
       "LINKNO                                \n",
       "4013    10224.6    10224.6  10224.6   \n",
       "2221    10224.6    10382.9  10303.8   \n",
       "\n",
       "                                                 geometry  \n",
       "LINKNO                                                     \n",
       "4013    LINESTRING (467705.763 4785516.333, 467705.763...  \n",
       "2221    LINESTRING (467705.763 4785516.333, 467695.763...  "
      ]
     },
     "execution_count": 81,
     "metadata": {},
     "output_type": "execute_result"
    }
   ],
   "source": [
    "n.loc[n['DSLINKNO'] == 4237]"
   ]
  },
  {
   "cell_type": "code",
   "execution_count": null,
   "id": "a41a61c8-3992-4444-9302-35b2814f4f3c",
   "metadata": {},
   "outputs": [],
   "source": []
  }
 ],
 "metadata": {
  "kernelspec": {
   "display_name": "Python 3 (ipykernel)",
   "language": "python",
   "name": "python3"
  },
  "language_info": {
   "codemirror_mode": {
    "name": "ipython",
    "version": 3
   },
   "file_extension": ".py",
   "mimetype": "text/x-python",
   "name": "python",
   "nbconvert_exporter": "python",
   "pygments_lexer": "ipython3",
   "version": "3.11.4"
  }
 },
 "nbformat": 4,
 "nbformat_minor": 5
}
