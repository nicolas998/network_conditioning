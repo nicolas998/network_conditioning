{
 "cells": [
  {
   "cell_type": "markdown",
   "id": "5a6d225f-8190-4df1-a289-b43f7f6701ca",
   "metadata": {},
   "source": [
    "# Import packages "
   ]
  },
  {
   "cell_type": "code",
   "execution_count": 2,
   "id": "effdefff-d625-4686-a2dd-92308ff6d1d5",
   "metadata": {
    "tags": []
   },
   "outputs": [],
   "source": [
    "import numpy as np \n",
    "import pylab as pl \n",
    "import geopandas as gp \n",
    "import pandas as pd "
   ]
  },
  {
   "cell_type": "markdown",
   "id": "024b5c38-d062-4581-9603-ab2eca579504",
   "metadata": {},
   "source": [
    "# Load data "
   ]
  },
  {
   "cell_type": "code",
   "execution_count": 21,
   "id": "6d05509d-d154-4f2c-aab7-038755f32ede",
   "metadata": {
    "tags": []
   },
   "outputs": [],
   "source": [
    "links_in_i = pd.read_csv('../maps/links_in_iowa.csv', usecols=[0])\n",
    "links_in_int_i = pd.read_csv('../maps/links_in_iowa_and_touching.csv', usecols=[0])\n",
    "c = np.setdiff1d(links_in_int_i.LINKNO.values, links_in_i.LINKNO.values)"
   ]
  },
  {
   "cell_type": "code",
   "execution_count": 23,
   "id": "ee73fda9-3ddf-4be3-acbe-3f2d310d2f30",
   "metadata": {
    "tags": []
   },
   "outputs": [],
   "source": [
    "f = open('../maps/links_touching.csv','w')\n",
    "f.write('LINKNO,\\n')\n",
    "for i in c:\n",
    "    f.write('%d\\n' % i)\n",
    "f.close()"
   ]
  },
  {
   "cell_type": "code",
   "execution_count": 17,
   "id": "348c1986-f69c-41c5-a738-fbf55ad0eee1",
   "metadata": {
    "tags": []
   },
   "outputs": [],
   "source": [
    "\n"
   ]
  },
  {
   "cell_type": "code",
   "execution_count": 20,
   "id": "a968dd31-4905-4a58-a005-e89a6d972784",
   "metadata": {
    "tags": []
   },
   "outputs": [
    {
     "data": {
      "text/plain": [
       "(2338,)"
      ]
     },
     "execution_count": 20,
     "metadata": {},
     "output_type": "execute_result"
    }
   ],
   "source": []
  },
  {
   "cell_type": "code",
   "execution_count": null,
   "id": "64c8ba25-540c-48b3-92e3-889ae3b8660d",
   "metadata": {},
   "outputs": [],
   "source": []
  }
 ],
 "metadata": {
  "kernelspec": {
   "display_name": "Python General",
   "language": "python",
   "name": "general"
  },
  "language_info": {
   "codemirror_mode": {
    "name": "ipython",
    "version": 3
   },
   "file_extension": ".py",
   "mimetype": "text/x-python",
   "name": "python",
   "nbconvert_exporter": "python",
   "pygments_lexer": "ipython3",
   "version": "3.11.4"
  }
 },
 "nbformat": 4,
 "nbformat_minor": 5
}
