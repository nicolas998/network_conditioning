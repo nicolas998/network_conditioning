{
 "cells": [
  {
   "cell_type": "markdown",
   "id": "e14099e3-f480-4a95-80c9-d159a88dc014",
   "metadata": {},
   "source": [
    "# Load packages and data "
   ]
  },
  {
   "cell_type": "code",
   "execution_count": 1,
   "id": "7aaaaf35-a625-4483-8d97-24fae367ae52",
   "metadata": {
    "tags": []
   },
   "outputs": [],
   "source": [
    "import pylab as pl \n",
    "import numpy as np \n",
    "import pandas as pd \n",
    "import geopandas as gp \n",
    "import warnings\n",
    "warnings.filterwarnings('ignore')\n",
    "from multiprocessing import Pool"
   ]
  },
  {
   "cell_type": "markdown",
   "id": "0d18e4cc-7496-48b4-a572-3bd58ede6a0d",
   "metadata": {
    "tags": []
   },
   "source": [
    "# Conflate with NHD low res"
   ]
  },
  {
   "cell_type": "markdown",
   "id": "c090f7ca-57e8-43d9-86f4-3c83104766ae",
   "metadata": {},
   "source": [
    "This one is done to obtain the conflation with the NHD network used by the NWC model "
   ]
  },
  {
   "cell_type": "code",
   "execution_count": 310,
   "id": "0b4142bb-5a7f-499e-8583-4932d384ea2d",
   "metadata": {
    "tags": []
   },
   "outputs": [],
   "source": [
    "def nhd2hlm(comid, max_uparea_diff=0.6, min_intercept=0.015, verbose = False, buffer = 20):\n",
    "    #try:\n",
    "    #Get the NHD link corresponding to the comid, its name, and creates a buffer of it\n",
    "    name = nhd.loc[nhd.COMID == comid,'GNIS_NAME'].values[0]\n",
    "    _tnhd = nhd.loc[nhd['COMID'] == comid]\n",
    "    nhd_b = _tnhd.buffer(buffer)\n",
    "    nhd_b = gp.GeoDataFrame(_tnhd['COMID'], geometry = nhd_b.geometry)\n",
    "    if verbose:\n",
    "        print('1. buffer for the nhd done')\n",
    "\n",
    "    #Overlap both buffers\n",
    "    bounds = list(nhd_b.bounds.values[0])\n",
    "    hlm_candidates = list(hlm_b.sindex.intersection(bounds))\n",
    "    union = gp.overlay(nhd_b, hlm_b.loc[hlm_candidates], how='union', )\n",
    "    #union = gp.overlay(nhd_b, hlm_b, how='union', )\n",
    "    river = union.loc[((~union['COMID'].isnull())&(~union['LINKNO'].isnull()))]\n",
    "    river['area'] = river.area\n",
    "    #Clean the river removing the elements with almost no interception\n",
    "    river['p_area'] = river['area'] / river['area'].sum()\n",
    "    river.drop(river.loc[river['p_area'] < min_intercept].index, inplace=True)\n",
    "    \n",
    "    #Works if there is an intersection\n",
    "    if river.shape[0] > 0:\n",
    "        \n",
    "        if verbose:\n",
    "            print('2. buffer union, done')\n",
    "\n",
    "        #set a temporal network of hlm taking the intersection \n",
    "        a = hlm_l.copy()#hlm.set_index('link')\n",
    "        a = a.loc[river.LINKNO]\n",
    "        a.drop_duplicates(inplace=True)\n",
    "        \n",
    "        #Clean up tributaries that do not belong to the main channel\n",
    "        flag = True\n",
    "        while flag:\n",
    "            to_remove = []\n",
    "            for link in river.LINKNO.unique():\n",
    "                try:\n",
    "                    hlm_uparea = a.loc[link,'USContArea'].values[0] / 1e6\n",
    "                except:\n",
    "                    hlm_uparea = a.loc[link,'USContArea']/ 1e6\n",
    "                errors = []\n",
    "                for i in river.loc[river.LINKNO == link, 'COMID']:\n",
    "                    nhd_uparea = nhd.loc[nhd.COMID == int(i),'TotDASqKM'].values[0]\n",
    "                    errors.append(np.abs((nhd_uparea - hlm_uparea)/nhd_uparea))\n",
    "                if np.min(errors) > max_uparea_diff:\n",
    "                    to_remove.append(link)\n",
    "            if len(to_remove) < 0.5*a.shape[0]:\n",
    "                flag = False\n",
    "            else:\n",
    "                max_uparea_diff += 0.2\n",
    "                if verbose:\n",
    "                    print('max_uparea_diff increased to %.1f' % max_uparea_diff)\n",
    "            if max_uparea_diff > 1.0:\n",
    "                flag = False\n",
    "                break \n",
    "        a = a.drop(to_remove)\n",
    "        a.drop_duplicates(inplace=True)\n",
    "        if verbose:\n",
    "            print('3. Clean hlm tributaries, done')\n",
    "        \n",
    "        if a.shape[0]>0:\n",
    "            #Get the most upstream reach\n",
    "            link_in = int(a[a.USContArea == a.USContArea.min()].index[0])\n",
    "            link_out = int(a.sort_values('USContArea').index[-1])\n",
    "            flag = True\n",
    "            cont = 2\n",
    "            while flag:\n",
    "                try:        \n",
    "                    #Goes downstream in the original hlm network to add those\n",
    "                    links_to_add = []\n",
    "                    dslink = link_in\n",
    "                    while dslink != link_out:\n",
    "                        #Search the next link in the temporal network\n",
    "                        try:\n",
    "                            dslink = a.loc[dslink,'ds']\n",
    "                        except:\n",
    "                            links_to_add.append(dslink)\n",
    "                            dslink = hlm_l.loc[dslink,'ds']\n",
    "                    #Final dataframe with the links that belong to the otter river        \n",
    "                    b = pd.concat([hlm_l.loc[links_to_add], a])\n",
    "                    flag = False\n",
    "                except:\n",
    "                    link_out = int(a.sort_values('USContArea').index[-cont])\n",
    "                    cont+=1\n",
    "            if verbose:\n",
    "                print('4. Fill gaps in the process, done')\n",
    "            b['COMID'] = comid\n",
    "            b['name'] = name\n",
    "\n",
    "            idx = river.set_index('LINKNO').index.intersection(b.index)\n",
    "            b['p_area'] = 0\n",
    "            b.loc[idx, 'p_area'] = river.set_index('LINKNO').loc[idx]\n",
    "\n",
    "            return b\n",
    "        else:\n",
    "            return 0\n",
    "    else:\n",
    "        return 0\n",
    "    # except:\n",
    "    #     pass"
   ]
  },
  {
   "cell_type": "code",
   "execution_count": 3,
   "id": "3f5733eb-24ff-4eb8-912b-3973b56c4bd6",
   "metadata": {
    "tags": []
   },
   "outputs": [],
   "source": [
    "hlm = gp.read_file('../local_data/vector/network_conflation.shp')\n",
    "nhd = gp.read_file('../local_data/vector/nhd_for_iowa_proj.shp')"
   ]
  },
  {
   "cell_type": "markdown",
   "id": "4cda977e-b4fe-4025-b2ee-26934f69e2be",
   "metadata": {},
   "source": [
    "## Processing the network "
   ]
  },
  {
   "cell_type": "markdown",
   "id": "54460480-42ec-4fda-86e5-e8f81c00f864",
   "metadata": {},
   "source": [
    "### Example processing one comid at the time "
   ]
  },
  {
   "cell_type": "code",
   "execution_count": 24,
   "id": "82ea7e84-3b12-43e7-acc7-965b39be004f",
   "metadata": {
    "tags": []
   },
   "outputs": [],
   "source": [
    "#Read the nhd+ network\n",
    "#nhd = gp.read_file('../local_data/vector/nhd_for_iowa_proj.shp')\n",
    "nhd.set_index('COMID', inplace = True)\n",
    "nhd['COMID'] = nhd.index\n",
    "nhd_b = nhd.buffer(10)\n",
    "nhd_b = gp.GeoDataFrame(nhd['COMID'], geometry=nhd_b.geometry)\n",
    "\n",
    "#Read the hlm network\n",
    "#hlm = gp.read_file('../local_data/vector/network_conflation.shp')\n",
    "#hlm = hlm.loc[hlm['strmOrder'] > 1]\n",
    "hlm_l = hlm.set_index('LINKNO')\n",
    "\n",
    "#Hlm network buffer\n",
    "hlm_b = hlm.buffer(10)\n",
    "hlm_b = gp.GeoDataFrame(hlm['LINKNO'], geometry = hlm_b.geometry)"
   ]
  },
  {
   "cell_type": "code",
   "execution_count": 295,
   "id": "bbf6a9c0-59e7-4cf7-ac4b-34f1265fffc0",
   "metadata": {
    "tags": []
   },
   "outputs": [],
   "source": [
    "b1 = nhd2hlm(6602956, max_uparea_diff=0.6, buffer=10)\n",
    "b2 = nhd2hlm(6602908, max_uparea_diff=0.6, buffer=10)\n",
    "b3 = nhd2hlm(6602896, max_uparea_diff=0.6, buffer=10)"
   ]
  },
  {
   "cell_type": "code",
   "execution_count": 296,
   "id": "1c62318e-1e50-44a6-85e9-f056f2d43bc4",
   "metadata": {
    "tags": []
   },
   "outputs": [],
   "source": [
    "b = pd.concat([b1,b2])\n",
    "b['LINKNO'] = b.index\n",
    "b.set_index(['LINKNO', 'COMID'], inplace = True)\n",
    "\n",
    "#Iterates and if the index is repeated, holds the one with the larger intersection\n",
    "for lid, evaluate in zip(b.index.get_level_values(0), b.index.get_level_values(0).duplicated()):\n",
    "    if evaluate:\n",
    "        #Organizes the slice in function of the intersected area (the best remains the last)\n",
    "        _b = b.loc[lid].sort_values('p_area')\n",
    "        #Drops all the remaining combinations that have that lid\n",
    "        for bad_comid in _b.index.values[:-1]:\n",
    "            b.drop(index=(lid, bad_comid), inplace=True)\n",
    "b['COMID'] = b.index.get_level_values('COMID')"
   ]
  },
  {
   "cell_type": "code",
   "execution_count": 298,
   "id": "15a602b4-2cf0-4b77-95ad-7c174c2597b6",
   "metadata": {
    "tags": []
   },
   "outputs": [
    {
     "data": {
      "text/plain": [
       "<Axes: >"
      ]
     },
     "execution_count": 298,
     "metadata": {},
     "output_type": "execute_result"
    },
    {
     "data": {
      "image/png": "[encoded data removed]",
      "text/plain": [
       "<Figure size 640x480 with 1 Axes>"
      ]
     },
     "metadata": {},
     "output_type": "display_data"
    }
   ],
   "source": [
    "fig = pl.figure()\n",
    "ax = fig.add_subplot(111)\n",
    "nhd.loc[b['COMID']].plot(ax = ax, color = 'r')\n",
    "b.plot(ax = ax, color = 'b')"
   ]
  },
  {
   "cell_type": "code",
   "execution_count": 306,
   "id": "00b6f5de-15d4-45d6-be8a-0bfb4dc21c4c",
   "metadata": {
    "tags": []
   },
   "outputs": [],
   "source": [
    "link_s = b.sort_values('DSContArea').index.get_level_values('LINKNO')[0]\n",
    "link_e = b.sort_values('DSContArea').index.get_level_values('LINKNO')[-1]"
   ]
  },
  {
   "cell_type": "code",
   "execution_count": 309,
   "id": "c63e0c4b-10db-454e-a8dd-f4d4d6cea6b1",
   "metadata": {
    "tags": []
   },
   "outputs": [
    {
     "data": {
      "text/plain": [
       "DSNODEID                                                     -1\n",
       "strmOrder                                                     5\n",
       "Length                                                    555.6\n",
       "Magnitude                                                   210\n",
       "DSContArea                                           60607564.0\n",
       "strmDrop                                                   0.76\n",
       "Slope                                                   0.00137\n",
       "StraightL                                                 510.9\n",
       "USContArea                                           60574364.0\n",
       "WSNO                                                    1745530\n",
       "DOUTEND                                                603205.5\n",
       "DOUTSTART                                              603760.9\n",
       "DOUTMID                                                603483.2\n",
       "np                                                            2\n",
       "us1                                                     1713497\n",
       "us2                                                       47386\n",
       "us3                                                          -1\n",
       "us4                                                          -1\n",
       "ds                                                      1746426\n",
       "geometry      LINESTRING (431491.0868678232 4744496.74530739...\n",
       "Name: 1745530, dtype: object"
      ]
     },
     "execution_count": 309,
     "metadata": {},
     "output_type": "execute_result"
    }
   ],
   "source": [
    "hlm_l.loc[link_e]"
   ]
  },
  {
   "cell_type": "markdown",
   "id": "f49dd880-b875-429a-8c08-def3b13f28a8",
   "metadata": {},
   "source": [
    "## Processing all of it in parallel "
   ]
  },
  {
   "cell_type": "code",
   "execution_count": 311,
   "id": "dd8d829f-e58e-4ae4-95f9-59527b118586",
   "metadata": {
    "tags": []
   },
   "outputs": [
    {
     "name": "stdout",
     "output_type": "stream",
     "text": [
      "5000\n",
      "10000\n",
      "15000\n",
      "20000\n",
      "25000\n",
      "30000\n",
      "35000\n",
      "40000\n",
      "45000\n",
      "50000\n",
      "55000\n",
      "60000\n",
      "65000\n",
      "70000\n",
      "75000\n",
      "76394\n"
     ]
    }
   ],
   "source": [
    "steps = np.arange(0, nhd.shape[0], step = 5000).tolist()\n",
    "steps.append(nhd.shape[0])\n",
    "\n",
    "c = 1\n",
    "for step1 , step2 in zip(steps[:-1], steps[1:]):\n",
    "\n",
    "    p = Pool(12)\n",
    "    b = p.map(nhd2hlm, nhd.index.tolist()[step1:step2])\n",
    "    p.close()\n",
    "    p.join()\n",
    "\n",
    "    b = [i for i in b if type(i)!=int]    \n",
    "\n",
    "    #Creates a data frame where the first index is the lid and the second the comid\n",
    "    b = pd.concat(b)\n",
    "    b['LINKNO'] = b.index\n",
    "    b.set_index(['LINKNO', 'COMID'], inplace = True)\n",
    "\n",
    "    #Iterates and if the index is repeated, holds the one with the larger intersection\n",
    "    for lid, evaluate in zip(b.index.get_level_values(0), b.index.get_level_values(0).duplicated()):\n",
    "        if evaluate:\n",
    "            #Organizes the slice in function of the intersected area (the best remains the last)\n",
    "            _b = b.loc[lid].sort_values('p_area')\n",
    "            #Drops all the remaining combinations that have that lid\n",
    "            for bad_comid in _b.index.values[:-1]:\n",
    "                b.drop(index=(lid, bad_comid), inplace=True)\n",
    "    #Reset the indexes so they will show up in the shapefile \n",
    "    b.reset_index()\n",
    "    b.to_file('../local_data/vector/confalte_%d.shp' % c)\n",
    "    c+=1\n",
    "    print(step2)"
   ]
  },
  {
   "cell_type": "markdown",
   "id": "6cd556f5-d458-4154-901d-ab51aaceccf8",
   "metadata": {},
   "source": [
    "After this step, I merged the conflated files in Qgis and exported just the LINKNO and COMID as a csv file, with that one I performed the next step "
   ]
  },
  {
   "cell_type": "markdown",
   "id": "2d704de3-a290-45b4-b16b-b82387a09846",
   "metadata": {},
   "source": [
    "## Filling holes downstream"
   ]
  },
  {
   "cell_type": "code",
   "execution_count": 45,
   "id": "101193d4-fb26-4a2a-8f9e-edad4eeb4d59",
   "metadata": {},
   "outputs": [],
   "source": [
    "#REad the data \n",
    "con =pd.read_csv('../local_data/tables/conflated.csv')\n",
    "net = pd.read_csv('../local_data/tables/network_conflation.csv')\n",
    "con.set_index('LINKNO', inplace = True)\n",
    "net.set_index('LINKNO', inplace = True)\n",
    "\n",
    "net.loc[con.index, 'COMID'] = con['COMID']"
   ]
  },
  {
   "cell_type": "code",
   "execution_count": 48,
   "id": "333a503b-7a30-44ca-9682-b64126e80512",
   "metadata": {
    "tags": []
   },
   "outputs": [
    {
     "data": {
      "text/html": [
       "<div>\n",
       "<style scoped>\n",
       "    .dataframe tbody tr th:only-of-type {\n",
       "        vertical-align: middle;\n",
       "    }\n",
       "\n",
       "    .dataframe tbody tr th {\n",
       "        vertical-align: top;\n",
       "    }\n",
       "\n",
       "    .dataframe thead th {\n",
       "        text-align: right;\n",
       "    }\n",
       "</style>\n",
       "<table border=\"1\" class=\"dataframe\">\n",
       "  <thead>\n",
       "    <tr style=\"text-align: right;\">\n",
       "      <th></th>\n",
       "      <th>COMID</th>\n",
       "      <th>DSContArea</th>\n",
       "    </tr>\n",
       "    <tr>\n",
       "      <th>LINKNO</th>\n",
       "      <th></th>\n",
       "      <th></th>\n",
       "    </tr>\n",
       "  </thead>\n",
       "  <tbody>\n",
       "    <tr>\n",
       "      <th>1760512</th>\n",
       "      <td>2748946</td>\n",
       "      <td>352408032.0</td>\n",
       "    </tr>\n",
       "    <tr>\n",
       "      <th>1760288</th>\n",
       "      <td>2750214</td>\n",
       "      <td>352131712.0</td>\n",
       "    </tr>\n",
       "    <tr>\n",
       "      <th>1673825</th>\n",
       "      <td>2750230</td>\n",
       "      <td>80090680.0</td>\n",
       "    </tr>\n",
       "    <tr>\n",
       "      <th>1674049</th>\n",
       "      <td>2750230</td>\n",
       "      <td>81018488.0</td>\n",
       "    </tr>\n",
       "    <tr>\n",
       "      <th>1730050</th>\n",
       "      <td>2750230</td>\n",
       "      <td>83520904.0</td>\n",
       "    </tr>\n",
       "    <tr>\n",
       "      <th>...</th>\n",
       "      <td>...</td>\n",
       "      <td>...</td>\n",
       "    </tr>\n",
       "    <tr>\n",
       "      <th>1019172</th>\n",
       "      <td>22255981</td>\n",
       "      <td>874705.2</td>\n",
       "    </tr>\n",
       "    <tr>\n",
       "      <th>1276548</th>\n",
       "      <td>22256221</td>\n",
       "      <td>967305.8</td>\n",
       "    </tr>\n",
       "    <tr>\n",
       "      <th>1340836</th>\n",
       "      <td>22255975</td>\n",
       "      <td>2382614.2</td>\n",
       "    </tr>\n",
       "    <tr>\n",
       "      <th>1305220</th>\n",
       "      <td>22255975</td>\n",
       "      <td>1949011.8</td>\n",
       "    </tr>\n",
       "    <tr>\n",
       "      <th>1333444</th>\n",
       "      <td>22255975</td>\n",
       "      <td>2116012.8</td>\n",
       "    </tr>\n",
       "  </tbody>\n",
       "</table>\n",
       "<p>239614 rows × 2 columns</p>\n",
       "</div>"
      ],
      "text/plain": [
       "            COMID   DSContArea\n",
       "LINKNO                        \n",
       "1760512   2748946  352408032.0\n",
       "1760288   2750214  352131712.0\n",
       "1673825   2750230   80090680.0\n",
       "1674049   2750230   81018488.0\n",
       "1730050   2750230   83520904.0\n",
       "...           ...          ...\n",
       "1019172  22255981     874705.2\n",
       "1276548  22256221     967305.8\n",
       "1340836  22255975    2382614.2\n",
       "1305220  22255975    1949011.8\n",
       "1333444  22255975    2116012.8\n",
       "\n",
       "[239614 rows x 2 columns]"
      ]
     },
     "execution_count": 48,
     "metadata": {},
     "output_type": "execute_result"
    }
   ],
   "source": [
    "con"
   ]
  },
  {
   "cell_type": "code",
   "execution_count": null,
   "id": "7d2ab052-66d7-4694-9b7f-1e7946d98f80",
   "metadata": {},
   "outputs": [],
   "source": [
    "def conflation_gap_fixer(lid):\n",
    "    flag = True\n",
    "    to_fix = []\n",
    "    fix_val = -999\n",
    "    while flag:\n",
    "        lid = net.loc[lid, 'ds']        \n",
    "        if lid > 0:\n",
    "            comid = net.loc[lid,'COMID']\n",
    "            if np.isnan(comid):\n",
    "                to_fix.append(lid)\n",
    "            else:\n",
    "                fix_val = comid\n",
    "                flag = False\n",
    "        else:\n",
    "            return [], -9\n",
    "    return to_fix, fix_val"
   ]
  },
  {
   "cell_type": "code",
   "execution_count": null,
   "id": "31857c0d-9f5a-42ce-9c11-b16a6b4869c6",
   "metadata": {},
   "outputs": [],
   "source": [
    "con.sort_values('DSContArea', inplace = True)\n",
    "for lid in con.index:\n",
    "    if net.loc[lid, 'ds'] > 0:\n",
    "        to_fix , fix_val = conflation_gap_fixer(lid)\n",
    "        if len(to_fix) > 0:\n",
    "            net.loc[to_fix,'COMID'] = fix_val\n",
    "            #print('lid %d filled %d links with comid: %d' % (lid, len(to_fix), fix_val))\n",
    "net.reset_index(inplace = True)\n",
    "net[['LINKNO','COMID']].to_csv('../local_data/tables/conflated_filled.csv')"
   ]
  },
  {
   "cell_type": "markdown",
   "id": "6fa9c71b-da26-45f3-ac06-3088ea39e5a5",
   "metadata": {},
   "source": [
    "# Conflate with NHD HD using the GNISID and GNISNAME"
   ]
  },
  {
   "cell_type": "markdown",
   "id": "40fed8d3-53a0-4db1-b2b7-df1b162a0c2a",
   "metadata": {},
   "source": [
    "This step is done to obtain the names of the rivers that have name some stuff changes in the function definition "
   ]
  },
  {
   "cell_type": "code",
   "execution_count": 198,
   "id": "ccde6ccb-61a1-4632-8c62-aa35e84c9dc3",
   "metadata": {
    "tags": []
   },
   "outputs": [],
   "source": [
    "def nhd2hlm_w_gnisid(nhd_id, max_uparea_diff=0.3, min_intercept=0.015, verbose = False, buffer = 10):\n",
    "    name = nhd.loc[nhd.NHDPlusID == nhd_id,'GNIS_Name'].values[0]\n",
    "    gnis_id = nhd.loc[nhd.NHDPlusID == nhd_id,'GNIS_ID'].values[0]\n",
    "\n",
    "    _tnhd = nhd.loc[nhd['NHDPlusID'] == nhd_id]\n",
    "    nhd_b = _tnhd.buffer(buffer)\n",
    "    nhd_b = gp.GeoDataFrame(_tnhd['NHDPlusID'], geometry = nhd_b.geometry)\n",
    "    if verbose:\n",
    "        print('1. buffer for the nhd done')\n",
    "\n",
    "    #Overlap both buffers\n",
    "    bounds = list(nhd_b.bounds.values[0])\n",
    "    hlm_candidates = list(hlm_b.sindex.intersection(bounds))\n",
    "    union = gp.overlay(nhd_b, hlm_b.loc[hlm_candidates], how='union', )\n",
    "    #union = gp.overlay(nhd_b, hlm_b, how='union', )\n",
    "    river = union.loc[((~union['NHDPlusID'].isnull())&(~union['LINKNO'].isnull()))]\n",
    "    river['area'] = river.area\n",
    "    #Clean the river removing the elements with almost no interception\n",
    "    river['p_area'] = river['area'] / river['area'].sum()\n",
    "    river.drop(river.loc[river['p_area'] < min_intercept].index, inplace=True)\n",
    "\n",
    "    #Works if there is an intersection\n",
    "    if river.shape[0] > 0:\n",
    "\n",
    "        if verbose:\n",
    "            print('2. buffer union, done')\n",
    "\n",
    "        #set a temporal network of hlm taking the intersection \n",
    "        a = hlm_l.copy()#hlm.set_index('link')\n",
    "        a = a.loc[river.LINKNO]\n",
    "        a.drop_duplicates(inplace=True)\n",
    "\n",
    "        #Clean up tributaries that do not belong to the main channel\n",
    "        flag = True\n",
    "        while flag:\n",
    "            to_remove = []\n",
    "            for link in river.LINKNO.unique():\n",
    "                try:\n",
    "                    hlm_uparea = a.loc[link,'USContArea'].values[0] / 1e6\n",
    "                except:\n",
    "                    hlm_uparea = a.loc[link,'USContArea']/ 1e6\n",
    "                errors = []\n",
    "                for i in river.loc[river.LINKNO == link, 'NHDPlusID']:\n",
    "                    nhd_uparea = nhd.loc[nhd.NHDPlusID == i,'TotDASqKm'].values[0]\n",
    "                    errors.append(np.abs((nhd_uparea - hlm_uparea)/nhd_uparea))\n",
    "                if np.min(errors) > max_uparea_diff:\n",
    "                    to_remove.append(link)\n",
    "            if len(to_remove) < 0.5*a.shape[0]:\n",
    "                flag = False\n",
    "            else:\n",
    "                max_uparea_diff += 0.2\n",
    "                if verbose:\n",
    "                    print('max_uparea_diff increased to %.1f' % max_uparea_diff)\n",
    "            if max_uparea_diff > 1.0:\n",
    "                flag = False\n",
    "                break \n",
    "        a = a.drop(to_remove)\n",
    "        a.drop_duplicates(inplace=True)\n",
    "        if verbose:\n",
    "            print('3. Clean hlm tributaries, done')\n",
    "\n",
    "        if a.shape[0]>0:\n",
    "            #Get the most upstream reach\n",
    "            link_in = int(a[a.USContArea == a.USContArea.min()].index[0])\n",
    "            link_out = int(a.sort_values('USContArea').index[-1])\n",
    "            flag = True\n",
    "            cont = 2\n",
    "            while flag:\n",
    "                try:        \n",
    "                    #Goes downstream in the original hlm network to add those\n",
    "                    links_to_add = []\n",
    "                    dslink = link_in\n",
    "                    while dslink != link_out:\n",
    "                        #Search the next link in the temporal network\n",
    "                        try:\n",
    "                            dslink = a.loc[dslink,'ds']\n",
    "                        except:\n",
    "                            links_to_add.append(dslink)\n",
    "                            dslink = hlm_l.loc[dslink,'ds']\n",
    "                    #Final dataframe with the links that belong to the otter river        \n",
    "                    b = pd.concat([hlm_l.loc[links_to_add], a])\n",
    "                    flag = False\n",
    "                except:\n",
    "                    link_out = int(a.sort_values('USContArea').index[-cont])\n",
    "                    cont+=1\n",
    "            if verbose:\n",
    "                print('4. Fill gaps in the process, done')\n",
    "            b['NHDPlusID'] = nhd_id\n",
    "            b['GNIS_ID'] = int(gnis_id)\n",
    "            b['name'] = name\n",
    "\n",
    "            idx = river.set_index('LINKNO').index.intersection(b.index)\n",
    "            b['p_area'] = 0\n",
    "            b.loc[idx, 'p_area'] = river.set_index('LINKNO').loc[idx]\n",
    "\n",
    "            return b.reset_index()[['LINKNO', 'NHDPlusID','name','p_area','GNIS_ID']]\n",
    "        else:\n",
    "            return 0\n",
    "    else:\n",
    "        return 0"
   ]
  },
  {
   "cell_type": "code",
   "execution_count": 196,
   "id": "ebeb1bf1-23ee-4631-b3e9-01e3eeacd375",
   "metadata": {
    "tags": []
   },
   "outputs": [],
   "source": [
    "b = nhd2hlm_w_gnisid(22000300069850.003906250000000)"
   ]
  },
  {
   "cell_type": "code",
   "execution_count": 197,
   "id": "5298c028-f8a2-49c5-9729-2d685573e45c",
   "metadata": {
    "tags": []
   },
   "outputs": [
    {
     "data": {
      "text/html": [
       "<div>\n",
       "<style scoped>\n",
       "    .dataframe tbody tr th:only-of-type {\n",
       "        vertical-align: middle;\n",
       "    }\n",
       "\n",
       "    .dataframe tbody tr th {\n",
       "        vertical-align: top;\n",
       "    }\n",
       "\n",
       "    .dataframe thead th {\n",
       "        text-align: right;\n",
       "    }\n",
       "</style>\n",
       "<table border=\"1\" class=\"dataframe\">\n",
       "  <thead>\n",
       "    <tr style=\"text-align: right;\">\n",
       "      <th></th>\n",
       "      <th>LINKNO</th>\n",
       "      <th>NHDPlusID</th>\n",
       "      <th>name</th>\n",
       "      <th>p_area</th>\n",
       "      <th>GNIS_ID</th>\n",
       "    </tr>\n",
       "  </thead>\n",
       "  <tbody>\n",
       "    <tr>\n",
       "      <th>0</th>\n",
       "      <td>1913343</td>\n",
       "      <td>2.200030e+13</td>\n",
       "      <td>Iowa River</td>\n",
       "      <td>0.765352</td>\n",
       "      <td>457834</td>\n",
       "    </tr>\n",
       "  </tbody>\n",
       "</table>\n",
       "</div>"
      ],
      "text/plain": [
       "    LINKNO     NHDPlusID        name    p_area  GNIS_ID\n",
       "0  1913343  2.200030e+13  Iowa River  0.765352   457834"
      ]
     },
     "execution_count": 197,
     "metadata": {},
     "output_type": "execute_result"
    }
   ],
   "source": [
    "b"
   ]
  },
  {
   "cell_type": "code",
   "execution_count": 191,
   "id": "2cde601a-5135-4a39-8e37-843625461c1e",
   "metadata": {
    "tags": []
   },
   "outputs": [
    {
     "data": {
      "text/plain": [
       "<Axes: >"
      ]
     },
     "execution_count": 191,
     "metadata": {},
     "output_type": "execute_result"
    },
    {
     "data": {
      "image/png": "[encoded data removed]",
      "text/plain": [
       "<Figure size 640x480 with 1 Axes>"
      ]
     },
     "metadata": {},
     "output_type": "display_data"
    }
   ],
   "source": [
    "hlm_l.loc[b.LINKNO].plot()"
   ]
  },
  {
   "cell_type": "code",
   "execution_count": 3,
   "id": "635aac5e-7d40-4dfa-8e64-5bc052c8ad76",
   "metadata": {
    "tags": []
   },
   "outputs": [],
   "source": [
    "hlm = gp.read_file('../local_data/vector/network_conflation.shp')\n",
    "nhd = gp.read_file('../local_data/vector/nhd_hd_for_iowa_names_w_gnis.shp')\n",
    "\n",
    "#Hlm network buffer\n",
    "hlm_b = hlm.buffer(10)\n",
    "hlm_b = gp.GeoDataFrame(hlm['LINKNO'], geometry = hlm_b.geometry)\n",
    "hlm_l = hlm.set_index('LINKNO')"
   ]
  },
  {
   "cell_type": "code",
   "execution_count": 170,
   "id": "af9050da-d268-4326-b4d6-7e9aefc7a4cf",
   "metadata": {
    "tags": []
   },
   "outputs": [],
   "source": [
    "hlm_l.set_index('LINKNO', inplace = True)"
   ]
  },
  {
   "cell_type": "code",
   "execution_count": null,
   "id": "f5d968f8-d677-4106-bb33-d5dbc8140f8c",
   "metadata": {},
   "outputs": [],
   "source": []
  },
  {
   "cell_type": "markdown",
   "id": "67cdf4de-b9cd-40ea-8934-c5602a430bf2",
   "metadata": {},
   "source": [
    "## Conflation in parallel"
   ]
  },
  {
   "cell_type": "code",
   "execution_count": 199,
   "id": "de259d01-9a4a-44cf-b563-5eff92953b83",
   "metadata": {
    "tags": []
   },
   "outputs": [],
   "source": [
    "#Assigns the NHD Id to each link id (one to many)\n",
    "p = Pool(12)\n",
    "b = p.map(nhd2hlm_w_gnisid, nhd['NHDPlusID'])\n",
    "p.close()\n",
    "p.join()\n",
    "#Takes only the cases with sucess\n",
    "b = [i for i in b if type(i)!=int]    \n",
    "b = pd.concat(b)\n",
    "#Sorth the values by the shared area and then excludes all the repeated links with lower shared area\n",
    "b.sort_values('p_area', inplace = True, ascending = False)\n",
    "b.drop_duplicates(subset='LINKNO', keep='first', inplace = True)\n",
    "#Saves the results to a table\n",
    "b.to_csv('../local_data/tables/conflated_nhd_hd3.csv')"
   ]
  },
  {
   "cell_type": "markdown",
   "id": "a773677d-cbb6-4544-bc80-2b5a6ee2a7cb",
   "metadata": {},
   "source": [
    "## Fill gaps downstream "
   ]
  },
  {
   "cell_type": "code",
   "execution_count": 150,
   "id": "b185424e-f620-4a99-b7db-b4169f2b814c",
   "metadata": {
    "tags": []
   },
   "outputs": [],
   "source": [
    "def conflation_gap_fixer_hd(lid):\n",
    "    flag = True\n",
    "    to_fix = []\n",
    "    fix_val = -999\n",
    "    while flag:\n",
    "        lid = hlm_l.loc[lid, 'ds']        \n",
    "        if lid > 0:\n",
    "            comid = hlm_l.loc[lid,'NHDPlusID']\n",
    "            if np.isnan(comid):\n",
    "                to_fix.append(lid)\n",
    "            else:\n",
    "                fix_val = comid\n",
    "                flag = False\n",
    "        else:\n",
    "            return [], -9\n",
    "    return to_fix, fix_val"
   ]
  },
  {
   "cell_type": "code",
   "execution_count": 159,
   "id": "0a9be10d-4d68-46a6-adb5-eec9e07992d8",
   "metadata": {
    "tags": []
   },
   "outputs": [],
   "source": [
    "#b.set_index('LINKNO', inplace = True)\n",
    "hlm_l = hlm.set_index('LINKNO')\n",
    "idx = hlm_l.index.intersection(b.index)\n",
    "hlm_l.loc[idx, 'NHDPlusID'] = b.loc[idx, 'NHDPlusID']"
   ]
  },
  {
   "cell_type": "code",
   "execution_count": 148,
   "id": "ba25c874-48fd-4bcd-bae1-e893d3a31e03",
   "metadata": {
    "tags": []
   },
   "outputs": [],
   "source": [
    "b.set_index('LINKNO', inplace = True)"
   ]
  },
  {
   "cell_type": "code",
   "execution_count": 164,
   "id": "a2c904b4-ba30-4fa0-b037-39f6b327862d",
   "metadata": {
    "tags": []
   },
   "outputs": [],
   "source": [
    "hlm_l.sort_values('DSContArea', inplace = True)\n",
    "for lid in b.index:\n",
    "    if hlm_l.loc[lid, 'ds'] > 0:\n",
    "        to_fix , fix_val = conflation_gap_fixer_hd(lid)\n",
    "        if len(to_fix) > 0:\n",
    "            hlm_l.loc[to_fix,'NHDPlusID'] = fix_val"
   ]
  },
  {
   "cell_type": "code",
   "execution_count": 166,
   "id": "11f630f8-e4dc-4585-b919-92fcf0461d0f",
   "metadata": {
    "tags": []
   },
   "outputs": [],
   "source": [
    "hlm_l['GNIS_ID'] = -9\n",
    "hlm_l['name'] = -9\n",
    "hlm_l.reset_index(inplace=True)\n",
    "hlm_l.set_index('NHDPlusID', inplace = True)\n",
    "nhd_ids = np.unique(b['NHDPlusID'])\n",
    "b.reset_index(inplace= True)\n",
    "b.set_index('NHDPlusID', inplace = True)\n",
    "\n",
    "for i in nhd_ids:\n",
    "    try:\n",
    "        hlm_l.loc[i,'GNIS_ID'] = b.loc[i,'GNIS_ID'].values[0]\n",
    "        hlm_l.loc[i,'name'] = b.loc[i,'name'].values[0]\n",
    "    except:\n",
    "        hlm_l.loc[i,'GNIS_ID'] = b.loc[i,'GNIS_ID']\n",
    "        hlm_l.loc[i,'name'] = b.loc[i,'name']\n",
    "        \n",
    "hlm_l.reset_index(inplace = True)\n",
    "hlm_l.loc[np.isfinite(hlm_l.NHDPlusID), ['LINKNO','NHDPlusID','GNIS_ID','name']].to_csv('../local_data/tables/conflated_nhd_hd2.csv')"
   ]
  },
  {
   "cell_type": "code",
   "execution_count": 124,
   "id": "d5974225-5a49-4464-9cb2-bf93782a1c89",
   "metadata": {
    "tags": []
   },
   "outputs": [],
   "source": [
    "b.reset_index().to_csv('../local_data/tables/conflated_nhd_hd_temp.csv')"
   ]
  },
  {
   "cell_type": "code",
   "execution_count": null,
   "id": "6a0101ba-2e14-435e-9e10-97cb36bdf04d",
   "metadata": {},
   "outputs": [],
   "source": []
  }
 ],
 "metadata": {
  "kernelspec": {
   "display_name": "Python General",
   "language": "python",
   "name": "general"
  },
  "language_info": {
   "codemirror_mode": {
    "name": "ipython",
    "version": 3
   },
   "file_extension": ".py",
   "mimetype": "text/x-python",
   "name": "python",
   "nbconvert_exporter": "python",
   "pygments_lexer": "ipython3",
   "version": "3.11.4"
  },
  "toc-autonumbering": true
 },
 "nbformat": 4,
 "nbformat_minor": 5
}
