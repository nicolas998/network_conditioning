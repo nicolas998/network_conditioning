{
 "cells": [
  {
   "cell_type": "markdown",
   "id": "32c17f3b",
   "metadata": {},
   "source": [
    "# Import packages and data "
   ]
  },
  {
   "cell_type": "code",
   "execution_count": 1,
   "id": "c0779a36",
   "metadata": {
    "ExecuteTime": {
     "end_time": "2023-11-01T19:34:54.225969Z",
     "start_time": "2023-11-01T19:34:53.022244Z"
    }
   },
   "outputs": [],
   "source": [
    "import numpy as np \n",
    "import pandas as pd \n",
    "import pylab as pl "
   ]
  },
  {
   "cell_type": "code",
   "execution_count": 16,
   "id": "99823b38",
   "metadata": {
    "ExecuteTime": {
     "end_time": "2023-11-01T19:38:39.402055Z",
     "start_time": "2023-11-01T19:38:39.149346Z"
    }
   },
   "outputs": [],
   "source": [
    "net = pd.read_parquet('../local_data/tables/links_ifis_w_downstream.gz')\n",
    "net.set_index('LINKNO', inplace = True)\n",
    "usgs = pd.read_csv('../local_data/tables/usgs_temporal_linked_w_trimmed.csv')\n",
    "ifc = pd.read_csv('../local_data/tables/ifc_linked_w_trimmed.csv')"
   ]
  },
  {
   "cell_type": "markdown",
   "id": "c054e4f5",
   "metadata": {},
   "source": [
    "# Getting the links upstream and downstream of each gauge "
   ]
  },
  {
   "cell_type": "code",
   "execution_count": 173,
   "id": "aee532f3",
   "metadata": {
    "ExecuteTime": {
     "end_time": "2023-11-01T20:45:47.063207Z",
     "start_time": "2023-11-01T20:45:47.056344Z"
    }
   },
   "outputs": [],
   "source": [
    "def get_lids_downstream(lid, net):\n",
    "    '''Function that gets the list of downstream segments given a linkid'''\n",
    "    #Define list of lids \n",
    "    lids_down = []\n",
    "    while lid > 0:\n",
    "        lids_down.append(lid)\n",
    "        lid = net.loc[lid, 'ds']\n",
    "    return lids_down\n",
    "\n",
    "\n",
    "def get_lids_upstream(lid, net, max_length = 1500):\n",
    "    '''Function to get the upstream segments of a given lid along the main channel.\n",
    "    Stop when the accumulated length is above the max_length'''\n",
    "    #Define local variables \n",
    "    length = net.Length.values\n",
    "    area = net.DSContArea.values\n",
    "    lids = net.index.values\n",
    "    ds = net.ds.values\n",
    "    tot_lenght = length[np.where(lid == lid)[0]]\n",
    "    lids_up = []\n",
    "    flag = True\n",
    "    while flag:\n",
    "        up = np.where(ds == lid)[0]\n",
    "        if up.size > 0:\n",
    "            pos = up[np.argmax(area[up])]\n",
    "            lid = lids[pos]\n",
    "            tot_lenght += length[pos]\n",
    "            lids_up.append(lid)\n",
    "        else:\n",
    "            flag = False            \n",
    "        if tot_lenght > max_length:\n",
    "            flag = False\n",
    "    return lids_up"
   ]
  },
  {
   "cell_type": "code",
   "execution_count": 168,
   "id": "70eacc74",
   "metadata": {
    "ExecuteTime": {
     "end_time": "2023-11-01T20:34:47.042811Z",
     "start_time": "2023-11-01T20:34:45.401012Z"
    }
   },
   "outputs": [],
   "source": [
    "lids_down = []\n",
    "for lid in usgs.LINKNO.values:\n",
    "    lids_down.extend(get_lids_downstream(lid = lid))\n",
    "for lid in ifc.LINKNO.values:\n",
    "    lids_down.extend(get_lids_downstream(lid = lid))"
   ]
  },
  {
   "cell_type": "code",
   "execution_count": 169,
   "id": "af81de17",
   "metadata": {
    "ExecuteTime": {
     "end_time": "2023-11-01T20:34:49.160221Z",
     "start_time": "2023-11-01T20:34:47.760871Z"
    }
   },
   "outputs": [],
   "source": [
    "#lids_up = []\n",
    "for lid in usgs.LINKNO.values:\n",
    "    lids_down.extend(get_lids_upstream(lid = lid))\n",
    "for lid in ifc.LINKNO.values:\n",
    "    lids_down.extend(get_lids_upstream(lid = lid))"
   ]
  },
  {
   "cell_type": "code",
   "execution_count": 170,
   "id": "3ff7b842",
   "metadata": {
    "ExecuteTime": {
     "end_time": "2023-11-01T20:34:49.673086Z",
     "start_time": "2023-11-01T20:34:49.649101Z"
    }
   },
   "outputs": [],
   "source": [
    "lids_down = np.unique(np.array(lids_down))"
   ]
  },
  {
   "cell_type": "code",
   "execution_count": 171,
   "id": "31ad0e87",
   "metadata": {
    "ExecuteTime": {
     "end_time": "2023-11-01T20:34:50.005740Z",
     "start_time": "2023-11-01T20:34:50.000137Z"
    }
   },
   "outputs": [
    {
     "data": {
      "text/plain": [
       "23326"
      ]
     },
     "execution_count": 171,
     "metadata": {},
     "output_type": "execute_result"
    }
   ],
   "source": [
    "len(lids_down)"
   ]
  },
  {
   "cell_type": "code",
   "execution_count": 172,
   "id": "89501fc3",
   "metadata": {
    "ExecuteTime": {
     "end_time": "2023-11-01T20:34:56.441843Z",
     "start_time": "2023-11-01T20:34:56.417381Z"
    }
   },
   "outputs": [],
   "source": [
    "f = open('../local_data/tables/lids_up_and_down_gauges.csv','w')\n",
    "f.write('lid\\n')\n",
    "for lid in lids_down:\n",
    "    f.write('%d\\n' % lid)\n",
    "f.close()"
   ]
  },
  {
   "cell_type": "code",
   "execution_count": null,
   "id": "90d65d49",
   "metadata": {},
   "outputs": [],
   "source": []
  }
 ],
 "metadata": {
  "kernelspec": {
   "display_name": "Python 3",
   "language": "python",
   "name": "python3"
  },
  "language_info": {
   "codemirror_mode": {
    "name": "ipython",
    "version": 3
   },
   "file_extension": ".py",
   "mimetype": "text/x-python",
   "name": "python",
   "nbconvert_exporter": "python",
   "pygments_lexer": "ipython3",
   "version": "3.8.13"
  },
  "toc": {
   "base_numbering": 1,
   "nav_menu": {},
   "number_sections": true,
   "sideBar": true,
   "skip_h1_title": false,
   "title_cell": "Table of Contents",
   "title_sidebar": "Contents",
   "toc_cell": false,
   "toc_position": {},
   "toc_section_display": true,
   "toc_window_display": false
  }
 },
 "nbformat": 4,
 "nbformat_minor": 5
}
