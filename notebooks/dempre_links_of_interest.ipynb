{
 "cells": [
  {
   "cell_type": "markdown",
   "id": "5a6d225f-8190-4df1-a289-b43f7f6701ca",
   "metadata": {},
   "source": [
    "# Import packages "
   ]
  },
  {
   "cell_type": "code",
   "execution_count": 1,
   "id": "effdefff-d625-4686-a2dd-92308ff6d1d5",
   "metadata": {
    "tags": []
   },
   "outputs": [],
   "source": [
    "import numpy as np \n",
    "import pylab as pl \n",
    "import geopandas as gp \n",
    "import glob \n",
    "import pandas as pd \n",
    "import sys \n",
    "sys.path.insert(0, '/home/nicolas/hpchome/network_conditioning/codes/')\n",
    "import network_functions as netf"
   ]
  },
  {
   "cell_type": "markdown",
   "id": "905184ee-3a6c-4f4b-87d3-69545f1f7691",
   "metadata": {},
   "source": [
    "# Get the extra links that belong to Iowa "
   ]
  },
  {
   "cell_type": "markdown",
   "id": "024b5c38-d062-4581-9603-ab2eca579504",
   "metadata": {},
   "source": [
    "## Write a list of the links that only intersect the area of interest"
   ]
  },
  {
   "cell_type": "code",
   "execution_count": 2,
   "id": "6d05509d-d154-4f2c-aab7-038755f32ede",
   "metadata": {
    "tags": []
   },
   "outputs": [],
   "source": [
    "links_in_i = pd.read_csv('../local_data/links_in_iowa.csv', usecols=[0])\n",
    "links_in_int_i = pd.read_csv('../local_data/links_in_iowa_and_touching.csv', usecols=[0])\n",
    "c = np.setdiff1d(links_in_int_i.LINKNO.values, links_in_i.LINKNO.values)"
   ]
  },
  {
   "cell_type": "code",
   "execution_count": 23,
   "id": "ee73fda9-3ddf-4be3-acbe-3f2d310d2f30",
   "metadata": {
    "tags": []
   },
   "outputs": [],
   "source": [
    "f = open('../local_data/links_touching.csv','w')\n",
    "f.write('LINKNO,\\n')\n",
    "for i in c:\n",
    "    f.write('%d\\n' % i)\n",
    "f.close()"
   ]
  },
  {
   "cell_type": "markdown",
   "id": "fa8d2382-3099-48fa-8db5-e569fb8dab7a",
   "metadata": {
    "tags": []
   },
   "source": [
    "## Get a clean version of the network without the ghost links "
   ]
  },
  {
   "cell_type": "code",
   "execution_count": 29,
   "id": "a968dd31-4905-4a58-a005-e89a6d972784",
   "metadata": {
    "tags": []
   },
   "outputs": [],
   "source": [
    "n = pd.read_csv('../local_data/links_all.csv')"
   ]
  },
  {
   "cell_type": "code",
   "execution_count": 31,
   "id": "64c8ba25-540c-48b3-92e3-889ae3b8660d",
   "metadata": {},
   "outputs": [],
   "source": [
    "n = netf.binary2multiple_parents(n)"
   ]
  },
  {
   "cell_type": "code",
   "execution_count": 35,
   "id": "f92f479b-dce3-4648-8b17-e509bd2653cb",
   "metadata": {
    "tags": []
   },
   "outputs": [],
   "source": [
    "n.to_csv('../local_data/links_all_no_ghosts.csv')"
   ]
  },
  {
   "cell_type": "markdown",
   "id": "440fe6d4-0b5c-4315-bcd5-a09920c97d98",
   "metadata": {},
   "source": [
    "## Get the links that belong to the links over the intersection line "
   ]
  },
  {
   "cell_type": "markdown",
   "id": "673a14fb-1075-4d48-9a5e-067b65fc7b5d",
   "metadata": {},
   "source": [
    "We will write the task file to perform this operation. All the reuslts are saved at:\n",
    "`local_data/subwatersheds/`"
   ]
  },
  {
   "cell_type": "code",
   "execution_count": 70,
   "id": "a31652bb-99e0-4068-9ff3-79e4cbc45d35",
   "metadata": {
    "tags": []
   },
   "outputs": [],
   "source": [
    "f = open('../codes/task_dempre_subwatersheds','w')\n",
    "path_net = '/Users/nicolas/network_conditioning/local_data/links_all_no_ghosts.csv'\n",
    "path_out = '/Users/nicolas/network_conditioning/local_data/subwatersheds/'\n",
    "for i in c:\n",
    "    file_out = '%s%d.csv' % (path_out, i)  \n",
    "    f.write('python3 /Users/nicolas/network_conditioning/codes/dempre_upstream_links.py %s %d %s\\n' % (path_net, i, file_out))\n",
    "f.close()"
   ]
  },
  {
   "cell_type": "markdown",
   "id": "824fb9ab-ef79-4fff-9040-b6232c4c39ab",
   "metadata": {
    "tags": []
   },
   "source": [
    "Next, we use the generated tables to get one big table with all the links that belong to iowa, finally."
   ]
  },
  {
   "cell_type": "code",
   "execution_count": null,
   "id": "4b066c12-7590-4b40-9610-2e9640cc7a7d",
   "metadata": {
    "tags": []
   },
   "outputs": [],
   "source": [
    "#To record the advance of the algorithm\n",
    "advance = np.arange(0,110,5)\n",
    "cur_adv = 0\n",
    "\n",
    "# Merge all the subwatersheds\n",
    "list_subwat = glob.glob('../local_data/subwatersheds/*')\n",
    "master = []\n",
    "for c, i in enumerate(list_subwat):\n",
    "    a = pd.read_csv(i, usecols=[1])\n",
    "    master.extend(a['LINKNO'].values.astype(int))\n",
    "    #master = np.unique(np.concatenate(master,a['LINKNO'].values.astype(int)))\n",
    "    progress = (c / len(list_subwat))*100\n",
    "    if progress > advance[cur_adv]:\n",
    "        print(progress)\n",
    "        cur_adv +=1"
   ]
  },
  {
   "cell_type": "markdown",
   "id": "9654b6f5-191d-4228-91ff-8d5cf7d0b30b",
   "metadata": {},
   "source": [
    "Correction due to links that do not touch the iowa border"
   ]
  },
  {
   "cell_type": "code",
   "execution_count": 3,
   "id": "9b2cf85c-1afb-4367-83e3-b3c379e8442e",
   "metadata": {
    "tags": []
   },
   "outputs": [],
   "source": [
    "inside = pd.read_csv('../local_data/links_in_iowa.csv', usecols=[0])['LINKNO'].values\n",
    "noghost = pd.read_csv('../local_data/links_all_no_ghosts.csv', usecols=[1])['LINKNO'].values\n",
    "inside_noghost = np.intersect1d(inside, noghost)"
   ]
  },
  {
   "cell_type": "code",
   "execution_count": 19,
   "id": "41717ba8-8e29-47e0-ad0d-2b69efc54bcd",
   "metadata": {
    "tags": []
   },
   "outputs": [],
   "source": [
    "#inside = pd.read_csv('../local_data/links_in_iowa.csv', usecols=[0])['LINKNO'].values\n",
    "master = master + inside_noghost.tolist()\n",
    "master = np.unique(np.array(master))"
   ]
  },
  {
   "cell_type": "markdown",
   "id": "2f4b3dbe-1c11-4ab2-b30d-db28625c45ab",
   "metadata": {},
   "source": [
    "List with the final selection of the network elements that belong to the region of interest "
   ]
  },
  {
   "cell_type": "code",
   "execution_count": 21,
   "id": "5697b0a9-8263-4528-a9d2-6af709b63612",
   "metadata": {
    "tags": []
   },
   "outputs": [],
   "source": [
    "f = open('../local_data/links_final_sel.csv','w')\n",
    "f.write('LINKNO\\n')\n",
    "for lid in master:\n",
    "    f.write('%d\\n' % lid)\n",
    "f.close()"
   ]
  },
  {
   "cell_type": "code",
   "execution_count": null,
   "id": "539eb07d-f371-4a3f-9ed6-fc1d2d296a17",
   "metadata": {},
   "outputs": [],
   "source": []
  }
 ],
 "metadata": {
  "kernelspec": {
   "display_name": "Python General",
   "language": "python",
   "name": "general"
  },
  "language_info": {
   "codemirror_mode": {
    "name": "ipython",
    "version": 3
   },
   "file_extension": ".py",
   "mimetype": "text/x-python",
   "name": "python",
   "nbconvert_exporter": "python",
   "pygments_lexer": "ipython3",
   "version": "3.11.4"
  },
  "toc-autonumbering": true
 },
 "nbformat": 4,
 "nbformat_minor": 5
}
