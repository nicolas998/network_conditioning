{
 "cells": [
  {
   "cell_type": "code",
   "execution_count": 1,
   "id": "0676f72d-bacf-49c0-847a-3f6b1657b913",
   "metadata": {
    "ExecuteTime": {
     "end_time": "2023-10-24T14:54:26.244520Z",
     "start_time": "2023-10-24T14:54:25.812472Z"
    },
    "tags": []
   },
   "outputs": [],
   "source": [
    "#import geopandas as gp \n",
    "import pandas as pd \n",
    "import numpy as np \n",
    "import glob \n",
    "#import osgeo\n",
    "#import gdal \n",
    "#from osgeo import osr, ogr"
   ]
  },
  {
   "cell_type": "code",
   "execution_count": 2,
   "id": "71df9fbb",
   "metadata": {
    "ExecuteTime": {
     "end_time": "2023-10-24T14:55:05.722285Z",
     "start_time": "2023-10-24T14:55:05.708239Z"
    }
   },
   "outputs": [],
   "source": [
    "def read_raster(path_map,isDEMorDIR=False,dxp=None, noDataP = None,isDIR = False,DIRformat = 'r.watershed'):\n",
    "    'Funcion: read_map\\n'\\\n",
    "    'Descripcion: Lee un mapa raster soportado por GDAL.\\n'\\\n",
    "    'Parametros Obligatorios:.\\n'\\\n",
    "    '   -path_map: path donde se encuentra el mapa.\\n'\\\n",
    "    'Parametros Opcionales:.\\n'\\\n",
    "    '   -isDEMorDIR: Pasa las propiedades de los mapas al modulo cuencas \\n'\\\n",
    "    '       escrito en fortran \\n'\\\n",
    "    '   -dxp: tamano plano del mapa\\n'\\\n",
    "    '   -noDataP: Valor para datos nulos en el mapa (-9999)\\n'\\\n",
    "    '   -DIRformat: donde se ha conseguido el mapa dir (r.watershed) \\n'\\\n",
    "    '       - r.watershed: mapa de direcciones obtenido por la funcion de GRASS\\n'\\\n",
    "    '       - opentopo: mapa de direcciones de http://www.opentopography.org/\\n'\\\n",
    "    '   -isDIR: (FALSE) es este un mapa de direcciones\\n'\\\n",
    "    'Retorno:.\\n'\\\n",
    "    '   Si no es DEM o DIR retorna todas las propieades del elemento en un vector.\\n'\\\n",
    "    '       En el siguiente orden: ncols,nrows,xll,yll,dx,nodata.\\n'\\\n",
    "    '   Si es DEM o DIR le pasa las propieades a cuencas para el posterior trazado.\\n'\\\n",
    "    '       de cuencas y link_ids.\\n' \\\n",
    "    #Abre el mapa\n",
    "    direction=gdal.Open(path_map)\n",
    "    #Projection\n",
    "    proj = osgeo.osr.SpatialReference(wkt=direction.GetProjection())\n",
    "    EPSG_code = proj.GetAttrValue('AUTHORITY',1)\n",
    "    #lee la informacion del mapa\n",
    "    ncols=direction.RasterXSize\n",
    "    nrows=direction.RasterYSize\n",
    "    banda=direction.GetRasterBand(1)\n",
    "    noData=banda.GetNoDataValue()\n",
    "    geoT=direction.GetGeoTransform()\n",
    "    dx=geoT[1]\n",
    "    dy=geoT[-1]\n",
    "    xll=geoT[0]; yll=geoT[3]\n",
    "    #lee el mapa\n",
    "    Mapa=direction.ReadAsArray()\n",
    "    direction.FlushCache()\n",
    "    del direction\n",
    "    return Mapa.astype(float),[ncols,nrows,xll,yll,dx,dy,noData],EPSG_code\n",
    "\n",
    "\n",
    "def get_slice_location(po,ps):\n",
    "    '''uses the prop of the origin and slice to obtain the \n",
    "    Columns before and after, Cb and Ca, respectively and \n",
    "    the Number of rows before (Rb)'''\n",
    "    # Deine the X and y's \n",
    "    x1 = ps[2]\n",
    "    y1 = ps[3]#+ps[5]*ps[1]\n",
    "    Nc1 = ps[0]\n",
    "    Nr1 = ps[1]\n",
    "\n",
    "    x2 = po[2]\n",
    "    y2 = po[3]#+po[5]*po[1]\n",
    "    Nc2 = po[0]\n",
    "    Nr2 = po[1]\n",
    "\n",
    "    dx = po[4]\n",
    "    dy = po[5]\n",
    "    \n",
    "    Cb = int(np.ceil((x1-x2)/dx))\n",
    "    Ca = int(Cb + Nc1)\n",
    "    Rb = int(np.ceil((y1 - y2) / dy))\n",
    "    return Cb, Ca, Rb, Nr1\n",
    "\n",
    "def save_array2raster(Array, ArrayProp, path, EPSG = 4326, Format = 'GTiff', dtype = 'int32', proj4 = None):\n",
    "    dst_filename = path\n",
    "    #Change the array format to int32 \n",
    "    Array = Array.astype(dtype)\n",
    "    #Formato de condiciones del mapa\n",
    "    x_pixels = Array.shape[1]  # number of pixels in x\n",
    "    y_pixels = Array.shape[0]  # number of pixels in y\n",
    "    PIXEL_SIZE_x = ArrayProp[4]  # size of the pixel... \n",
    "    PIXEL_SIZE_y = ArrayProp[5]  # size of the pixel...\n",
    "    x_min = ArrayProp[2]\n",
    "    y_max = ArrayProp[3] #+ ArrayProp[5] * ArrayProp[1] # x_min & y_max are like the \"top left\" corner.\n",
    "    driver = gdal.GetDriverByName(Format)\n",
    "    #Para encontrar el formato de GDAL\n",
    "    NP2GDAL_CONVERSION = {\n",
    "      \"uint8\": 1,\n",
    "      \"int8\": 1,\n",
    "      \"uint16\": 2,\n",
    "      \"int16\": 3,\n",
    "      \"uint32\": 4,\n",
    "      \"int32\": 5,\n",
    "      \"float32\": 6,\n",
    "      \"float64\": 7,\n",
    "      \"complex64\": 10,\n",
    "      \"complex128\": 11,\n",
    "    }\n",
    "    gdaltype = NP2GDAL_CONVERSION[Array.dtype.name]\n",
    "    # Crea el driver\n",
    "    dataset = driver.Create(\n",
    "        dst_filename,\n",
    "        x_pixels,\n",
    "        y_pixels,\n",
    "        1,\n",
    "        gdaltype,)\n",
    "    #coloca la referencia espacial\n",
    "    dataset.SetGeoTransform((\n",
    "        x_min,    # 0\n",
    "        PIXEL_SIZE_x,  # 1\n",
    "        0,                      # 2\n",
    "        y_max,    # 3\n",
    "        0,                      # 4\n",
    "        PIXEL_SIZE_y))\n",
    "    #coloca la proyeccion a partir de un EPSG\n",
    "    proj = osgeo.osr.SpatialReference()\n",
    "    if proj4 == None:\n",
    "        texto = 'EPSG:' + str(EPSG)\n",
    "        proj.SetWellKnownGeogCS( texto )\n",
    "    else:\n",
    "        proj.SetProjection(proj4)\n",
    "    dataset.SetProjection(proj.ExportToWkt())\n",
    "    #Coloca el nodata\n",
    "    band = dataset.GetRasterBand(1)\n",
    "    if ArrayProp[-1] is None:\n",
    "        band.SetNoDataValue(-9999)\n",
    "    else:\n",
    "        band.SetNoDataValue(int(ArrayProp[-1]))\n",
    "    #Guarda el mapa\n",
    "    dataset.GetRasterBand(1).WriteArray(Array)\n",
    "    dataset.FlushCache()"
   ]
  },
  {
   "cell_type": "markdown",
   "id": "0931c1a5",
   "metadata": {},
   "source": [
    "# Example of steps 1 to 3 (creating the ranks matrix)"
   ]
  },
  {
   "cell_type": "code",
   "execution_count": 4,
   "id": "cb99481a",
   "metadata": {
    "ExecuteTime": {
     "end_time": "2023-10-24T14:55:07.131757Z",
     "start_time": "2023-10-24T14:55:06.793638Z"
    }
   },
   "outputs": [],
   "source": [
    "original, prop_o, epsg = read_raster('../local_data/luts/luts_hrrr/hrrr_example2.tif')\n",
    "# sliced, prop_s, epsg = read_raster('../local_data/luts_mrms/mrms_slice.tif')\n",
    "# Cb, Ca, Rb, Nr1 = get_slice_location(prop_o, prop_s)"
   ]
  },
  {
   "cell_type": "code",
   "execution_count": 6,
   "id": "85a6b3bd",
   "metadata": {
    "ExecuteTime": {
     "end_time": "2023-10-24T14:55:14.232196Z",
     "start_time": "2023-10-24T14:55:14.226828Z"
    }
   },
   "outputs": [
    {
     "data": {
      "text/plain": [
       "[1799, 1059, -2699020.1425, 1588193.8474, 3000.0, -3000.0, None]"
      ]
     },
     "execution_count": 6,
     "metadata": {},
     "output_type": "execute_result"
    }
   ],
   "source": [
    "prop_o"
   ]
  },
  {
   "cell_type": "code",
   "execution_count": 8,
   "id": "cb0e90ba",
   "metadata": {
    "ExecuteTime": {
     "end_time": "2023-10-24T14:56:40.960770Z",
     "start_time": "2023-10-24T14:56:40.875057Z"
    }
   },
   "outputs": [],
   "source": [
    "#Get the rank matrix\n",
    "ranks = np.arange(0, original.size)\n",
    "ranks = ranks.reshape(original.shape)\n",
    "\n",
    "#Sve a tif map with the ranks \n",
    "#ranks_slice = ranks[Rb:Rb+Nr1, Cb:Ca]\n",
    "save_array2raster(ranks, \n",
    "                  prop_o,\n",
    "             '../local_data/luts/luts_hrrr/ranks.tif')"
   ]
  },
  {
   "cell_type": "code",
   "execution_count": 10,
   "id": "101f54fb",
   "metadata": {
    "ExecuteTime": {
     "end_time": "2023-10-24T15:00:46.555633Z",
     "start_time": "2023-10-24T15:00:46.548476Z"
    }
   },
   "outputs": [
    {
     "data": {
      "text/plain": [
       "array([[      0,       1,       2, ...,    1796,    1797,    1798],\n",
       "       [   1799,    1800,    1801, ...,    3595,    3596,    3597],\n",
       "       [   3598,    3599,    3600, ...,    5394,    5395,    5396],\n",
       "       ...,\n",
       "       [1899744, 1899745, 1899746, ..., 1901540, 1901541, 1901542],\n",
       "       [1901543, 1901544, 1901545, ..., 1903339, 1903340, 1903341],\n",
       "       [1903342, 1903343, 1903344, ..., 1905138, 1905139, 1905140]])"
      ]
     },
     "execution_count": 10,
     "metadata": {},
     "output_type": "execute_result"
    }
   ],
   "source": [
    "ranks"
   ]
  },
  {
   "cell_type": "markdown",
   "id": "b5da155b",
   "metadata": {},
   "source": [
    "# Example of lut creation with ranks and hillslopes "
   ]
  },
  {
   "cell_type": "code",
   "execution_count": 2,
   "id": "6c696e8c",
   "metadata": {
    "tags": []
   },
   "outputs": [],
   "source": [
    "#Reads the hillslopes and ranks \n",
    "h = gp.read_file('../../2023_newIFIS/vectors/')\n",
    "r = gp.read_file('../maps/ranks4luts.shp')\n",
    "\n",
    "#Makes the union between both\n",
    "union = gp.overlay(h, r, how='intersection', )\n",
    "union['area_r'] = union.area\n",
    "union.set_index('LINKNO', inplace = True)\n",
    "\n",
    "#Gets the weigth\n",
    "lids = union.index.values\n",
    "ranks = union['rank'].values\n",
    "areas = union['area_r'].values\n",
    "w = np.zeros(union.shape[0])\n",
    "for lid in np.unique(lids):\n",
    "    p = np.where(lids == lid)\n",
    "    w[p] = areas[p]/areas[p].sum()\n",
    "    \n",
    "#Save the lut in a npz file \n",
    "lut_dtype = np.dtype(\n",
    "    [\n",
    "        ('lid', np.int32),\n",
    "        ('xy1d', np.int32),\n",
    "        ('weight', np.float32)\n",
    "    ]\n",
    ")\n",
    "sorter = np.argsort(lids)    \n",
    "rec = np.core.records.fromarrays(\n",
    "    (\n",
    "        np.asarray(lids)[sorter],\n",
    "        np.asarray(ranks)[sorter],\n",
    "        np.asarray(w)[sorter]\n",
    "    ),\n",
    "    dtype=lut_dtype\n",
    ")\n",
    "path = '../luts/example_luts.npy'\n",
    "np.save(path, rec)"
   ]
  },
  {
   "cell_type": "markdown",
   "id": "4a86af3d",
   "metadata": {
    "tags": []
   },
   "source": [
    "## Testing the created lut"
   ]
  },
  {
   "cell_type": "code",
   "execution_count": 2,
   "id": "26e3a00e",
   "metadata": {
    "ExecuteTime": {
     "end_time": "2023-10-05T20:10:21.462487Z",
     "start_time": "2023-10-05T20:10:21.448380Z"
    },
    "tags": []
   },
   "outputs": [],
   "source": [
    "lut = np.load('../luts/example_luts.npy')"
   ]
  },
  {
   "cell_type": "code",
   "execution_count": 39,
   "id": "c37b232f",
   "metadata": {
    "ExecuteTime": {
     "end_time": "2023-10-06T13:04:51.765162Z",
     "start_time": "2023-10-06T13:04:49.703994Z"
    },
    "tags": []
   },
   "outputs": [],
   "source": [
    "mrms, prop, epsg = read_raster('/mnt/c/Users/nicolas/Documents/2022_highDef_IFC/mrms/for_luts/MRMS_base_20230309-19.tif')\n",
    "mrms = mrms.reshape(mrms.size)\n",
    "mrms = mrms[lut['xy1d']]"
   ]
  },
  {
   "cell_type": "code",
   "execution_count": 28,
   "id": "d39ba1d0",
   "metadata": {
    "ExecuteTime": {
     "end_time": "2023-10-05T20:28:30.144987Z",
     "start_time": "2023-10-05T20:28:30.031514Z"
    },
    "tags": []
   },
   "outputs": [],
   "source": [
    "rain = np.zeros(lut['lid'].shape)\n",
    "for lid in np.unique(lut['lid']):\n",
    "    p = np.where(lut['lid'] == lid)\n",
    "    rain[p] = np.sum(mrms[p] * lut['weight'][p])"
   ]
  },
  {
   "cell_type": "code",
   "execution_count": 31,
   "id": "36b9e023",
   "metadata": {
    "ExecuteTime": {
     "end_time": "2023-10-05T20:41:07.281503Z",
     "start_time": "2023-10-05T20:41:07.257295Z"
    }
   },
   "outputs": [],
   "source": [
    "f = open('../luts/example_result.txt','w')\n",
    "f.write('link, rain\\n')\n",
    "for lid, r in zip(lut['lid'], rain):\n",
    "    f.write('%d, %.2f\\n' % (lid, r))\n",
    "f.close()"
   ]
  },
  {
   "cell_type": "markdown",
   "id": "bb8de1ac",
   "metadata": {},
   "source": [
    "### Test without iteration (the way to do it)"
   ]
  },
  {
   "cell_type": "code",
   "execution_count": 10,
   "id": "1ad087d8",
   "metadata": {
    "ExecuteTime": {
     "end_time": "2023-10-06T19:59:00.629687Z",
     "start_time": "2023-10-06T19:59:00.618151Z"
    },
    "tags": []
   },
   "outputs": [],
   "source": [
    "def MRMStime2unix(file):\n",
    "    return int(datetime.strptime(file.split('_')[-1][:-10], '%Y%m%d-%H').replace(tzinfo=timezone.utc).timestamp())\n",
    "\n",
    "#Function to sum the vals using the positions \n",
    "def grp_sum(vals, lids):\n",
    "    vals = vals.astype(np.float64)\n",
    "    vals.cumsum(out=vals)\n",
    "    inx = np.ones(len(lids), 'bool')\n",
    "    inx[:-1] = lids[1:] != lids[:-1]\n",
    "    unique_lids = lids[inx]\n",
    "    vals = vals[inx]\n",
    "    vals[1:] = vals[1:] - vals[:-1]\n",
    "    return unique_lids, vals.astype(np.float32)\n",
    "\n",
    "def saveBin(lid, lid_vals, count, fn):\n",
    "    io_buffer_size = 4+4*100000\n",
    "    lid = (lid)\n",
    "    lid_vals = (lid_vals)\n",
    "    fh = io.open(fn, 'wb', io_buffer_size)\n",
    "    fh.write(pack('<I', count))\n",
    "    for vals in zip(lid, lid_vals):\n",
    "        fh.write(pack('<If', *vals))\n",
    "    fh.close()\n",
    "\n",
    "def file2vals(file, threshold, out_path , timeConversion = MRMStime2unix):\n",
    "    #Reads the forcing and converts it to the hill shape\n",
    "    vals, prop, epsg = read_raster(file)\n",
    "    vals = vals.reshape(vals.size)\n",
    "    w_vals = vals[lut['xy1d']] * lut['weight']\n",
    "    \n",
    "    #Sum the values for each link\n",
    "    ulids, val = grp_sum(w_vals, lut['lid'])\n",
    "    \n",
    "    #Writes a binary file \n",
    "    p = np.where(val > threshold)\n",
    "    unix = timeConversion(file)\n",
    "    saveBin(ulids[p], val[p], val[p].size, out_path+str(unix))\n",
    "    \n",
    "    "
   ]
  },
  {
   "cell_type": "code",
   "execution_count": null,
   "id": "a8d2fced-5a6f-4f8b-bad1-f93ea4fd405a",
   "metadata": {},
   "outputs": [],
   "source": [
    "glob.glob('')"
   ]
  },
  {
   "cell_type": "code",
   "execution_count": null,
   "id": "33e1bc38-b408-46f5-9d5b-cedc925db73f",
   "metadata": {},
   "outputs": [],
   "source": []
  },
  {
   "cell_type": "code",
   "execution_count": null,
   "id": "fcb9fa64-e510-4ed9-80c3-20c00d80a755",
   "metadata": {},
   "outputs": [],
   "source": []
  },
  {
   "cell_type": "code",
   "execution_count": 11,
   "id": "c5beadd4",
   "metadata": {
    "ExecuteTime": {
     "end_time": "2023-10-06T19:17:22.499429Z",
     "start_time": "2023-10-06T19:17:22.495100Z"
    },
    "tags": []
   },
   "outputs": [],
   "source": [
    "import glob \n",
    "from multiprocessing import Pool\n",
    "from struct import pack\n",
    "import io\n",
    "from datetime import datetime, timezone"
   ]
  },
  {
   "cell_type": "code",
   "execution_count": null,
   "id": "d1cf3e76-8e5a-479d-a935-afca01c43fe7",
   "metadata": {
    "ExecuteTime": {
     "end_time": "2023-10-06T16:30:27.169424Z",
     "start_time": "2023-10-06T16:30:24.157321Z"
    },
    "tags": []
   },
   "outputs": [],
   "source": [
    "\n",
    "#Convert mrms for the region\n",
    "mrms, prop, epsg = read_raster('/home/nicolas/hpchome/TMP_20160424T22_f00.tif')\n",
    "mrms = mrms.reshape(mrms.size)\n",
    "w_vals = mrms[lut['xy1d']] * lut['weight']"
   ]
  },
  {
   "cell_type": "code",
   "execution_count": 145,
   "id": "c17a89ce",
   "metadata": {
    "ExecuteTime": {
     "end_time": "2023-10-06T20:02:15.468751Z",
     "start_time": "2023-10-06T20:02:14.330150Z"
    }
   },
   "outputs": [],
   "source": [
    "#Function to warp the processing \n",
    "def warp(com):\n",
    "    file2vals(*com)\n",
    "\n",
    "\n",
    "#Parameters, date and path to write the results\n",
    "date ='20180502'\n",
    "path_out = '/mnt/x/data_bin/new_ifis/mrms/'\n",
    "\n",
    "#Read the MRMS lut for the whole domain\n",
    "lut = np.load('../local_data/luts/luts_mrms/lut_mrms.npy')\n",
    "\n",
    "#List all the files for a given day\n",
    "list_files = glob.glob('/mnt/y/mrs/hlm/MRMS/%s/%s/%s/*' % (date[:4], date[4:6], date[6:]))\n",
    "\n",
    "#Create the list of commands that will be used to create the binary\n",
    "comands = []\n",
    "for file in list_files:\n",
    "    comands.append((\n",
    "        file, \n",
    "        0.1, \n",
    "        '%s%s/%s/' % (path_out, file.split('_')[-1][:4], file.split('_')[-1][4:6])\n",
    "    ))\n",
    "\n"
   ]
  },
  {
   "cell_type": "code",
   "execution_count": 146,
   "id": "968e81bd",
   "metadata": {
    "ExecuteTime": {
     "end_time": "2023-10-06T20:02:38.703545Z",
     "start_time": "2023-10-06T20:02:16.546201Z"
    }
   },
   "outputs": [],
   "source": [
    "#Creates the binary files \n",
    "p = Pool(8)\n",
    "p.map(warp, comands)\n",
    "p.close()\n",
    "p.join()"
   ]
  },
  {
   "cell_type": "markdown",
   "id": "dcad4b31-4f28-4600-af2f-e2a66d354c44",
   "metadata": {
    "ExecuteTime": {
     "end_time": "2023-10-06T19:52:20.623669Z",
     "start_time": "2023-10-06T19:52:20.617350Z"
    }
   },
   "source": [
    "# Waverly lut testing "
   ]
  },
  {
   "cell_type": "code",
   "execution_count": 3,
   "id": "532c6041-7d45-4cff-9b28-bee7858b8f05",
   "metadata": {
    "tags": []
   },
   "outputs": [],
   "source": [
    "lut = np.load('../local_data/luts/waverly/lut_hrrr.npy')"
   ]
  },
  {
   "cell_type": "code",
   "execution_count": 5,
   "id": "22b076c1-f6b0-436c-98aa-41428ace0244",
   "metadata": {
    "tags": []
   },
   "outputs": [],
   "source": [
    "file = glob.glob('/home/nicolas/hpchome/*.tif')"
   ]
  },
  {
   "cell_type": "code",
   "execution_count": 8,
   "id": "0e775d6b-a8a8-4b3d-9575-68384fb52e8f",
   "metadata": {
    "tags": []
   },
   "outputs": [],
   "source": [
    "f = file[0]"
   ]
  },
  {
   "cell_type": "code",
   "execution_count": null,
   "id": "1261e7b3-c476-4a30-ac4d-ac8ef1b87295",
   "metadata": {},
   "outputs": [],
   "source": [
    "def MRMStime2unix(file):\n",
    "    return int(datetime.strptime(file.split('_')[-1][:-10], '%Y%m%d-%H').replace(tzinfo=timezone.utc).timestamp())"
   ]
  },
  {
   "cell_type": "code",
   "execution_count": 17,
   "id": "1ad0095c-6a91-4164-8f87-9ef48bd3a49f",
   "metadata": {
    "tags": []
   },
   "outputs": [],
   "source": [
    "from datetime import datetime, timezone"
   ]
  },
  {
   "cell_type": "code",
   "execution_count": 18,
   "id": "2580da9a-ef13-4e02-a63f-3aea11c11913",
   "metadata": {
    "tags": []
   },
   "outputs": [
    {
     "data": {
      "text/plain": [
       "1461535200.0"
      ]
     },
     "execution_count": 18,
     "metadata": {},
     "output_type": "execute_result"
    }
   ],
   "source": [
    "def HRRR_valeria_time2unix(file):\n",
    "    return int(datetime.strptime(f.split('_')[1],'%Y%m%dT%H').replace(tzinfo=timezone.utc).timestamp())"
   ]
  },
  {
   "cell_type": "code",
   "execution_count": 5,
   "id": "bd2b89e4-7e08-4be5-8b04-a8dca2244bd5",
   "metadata": {
    "tags": []
   },
   "outputs": [],
   "source": [
    "import glob \n",
    "import os"
   ]
  },
  {
   "cell_type": "code",
   "execution_count": 6,
   "id": "89f4639b-71e0-42cc-ab35-8ccc4825abd2",
   "metadata": {
    "tags": []
   },
   "outputs": [],
   "source": [
    "folders = glob.glob('/home/nicolas/LSS/IFC/data_bin/new_ifis/waverly/*')"
   ]
  },
  {
   "cell_type": "code",
   "execution_count": 52,
   "id": "7930a3dc-fbec-4231-ab9c-a8dc1986e3e7",
   "metadata": {
    "tags": []
   },
   "outputs": [],
   "source": [
    "path_code = 'python /Users/nicolas/2023_tempmodel/codes/forcing2binary.py'\n",
    "path_lut = '/Users/nicolas/2023_tempmodel/luts/lut_hrrr.npy'\n",
    "path_in = '/nfsscratch/nicolas/hrrr/%s/'\n",
    "path_out = '/Dedicated/IFC/data_bin/new_ifis/waverly/%s/%d/'\n",
    "pattern = '%s'\n",
    "for folder in folders:\n",
    "    folder = folder.split('/')[-1]\n",
    "    f = open('/home/nicolas/hpchome/2023_tempmodel/codes/task_%s' % folder,'w')\n",
    "    _pin = path_in % folder\n",
    "    for year in range(2016, 2023):    \n",
    "        _pout = path_out % (folder, year)\n",
    "        dates = pd.date_range('%d0101' % year,'%d1231' % year, freq='d')\n",
    "        for date in dates:\n",
    "            pat = pattern % (date.strftime('%Y%m%d'))\n",
    "            f.write('%s %s %s %s -p %s\\n' % (path_code, path_lut, _pin, _pout, pat))\n",
    "    f.close()"
   ]
  },
  {
   "cell_type": "code",
   "execution_count": 54,
   "id": "2518e771-43b2-44bd-8047-55d21972ac15",
   "metadata": {
    "tags": []
   },
   "outputs": [
    {
     "data": {
      "text/plain": [
       "['/home/nicolas/LSS/IFC/data_bin/new_ifis/waverly/Wind',\n",
       " '/home/nicolas/LSS/IFC/data_bin/new_ifis/waverly/PRES',\n",
       " '/home/nicolas/LSS/IFC/data_bin/new_ifis/waverly/DSWRF',\n",
       " '/home/nicolas/LSS/IFC/data_bin/new_ifis/waverly/LCDC',\n",
       " '/home/nicolas/LSS/IFC/data_bin/new_ifis/waverly/TMP',\n",
       " '/home/nicolas/LSS/IFC/data_bin/new_ifis/waverly/RH']"
      ]
     },
     "execution_count": 54,
     "metadata": {},
     "output_type": "execute_result"
    }
   ],
   "source": [
    "folders"
   ]
  },
  {
   "cell_type": "code",
   "execution_count": 55,
   "id": "bd9cd278-c6b5-4556-8c63-5aedcee0095f",
   "metadata": {
    "tags": []
   },
   "outputs": [],
   "source": [
    "path_code = 'python /Users/nicolas/2023_tempmodel/codes/wind2binary.py'\n",
    "path_lut = '/Users/nicolas/2023_tempmodel/luts/lut_hrrr.npy'\n",
    "path_in1 = '/nfsscratch/nicolas/hrrr/%s/'\n",
    "path_in2 = '/nfsscratch/nicolas/hrrr/%s/'\n",
    "path_out = '/Dedicated/IFC/data_bin/new_ifis/waverly/%s/%d/'\n",
    "pattern = '%s'\n",
    "\n",
    "folder1 = 'UGRD'\n",
    "folder2 = 'VGRD'\n",
    "\n",
    "f = open('/home/nicolas/hpchome/2023_tempmodel/codes/task_wind','w')\n",
    "_pin1 = path_in1 % folder1\n",
    "_pin2 = path_in2 % folder2\n",
    "for year in range(2016, 2023):    \n",
    "    _pout = path_out % ('Wind', year)\n",
    "    dates = pd.date_range('%d0101' % year,'%d1231' % year, freq='d')\n",
    "    for date in dates:\n",
    "        pat = pattern % (date.strftime('%Y%m%d'))\n",
    "        f.write('%s %s %s %s %s -p %s\\n' % (path_code, path_lut, _pin1, _pin2, _pout, pat))\n",
    "f.close()"
   ]
  },
  {
   "cell_type": "code",
   "execution_count": null,
   "id": "0158794b-84af-4b26-8c61-7f0754740d47",
   "metadata": {},
   "outputs": [],
   "source": []
  },
  {
   "cell_type": "code",
   "execution_count": 27,
   "id": "6f74bfee-452f-4fe5-bc3e-7062fad39f24",
   "metadata": {
    "tags": []
   },
   "outputs": [],
   "source": [
    "f = open('/home/nicolas/hpchome/2023_tempmodel/codes/task_mierda','w')"
   ]
  },
  {
   "cell_type": "code",
   "execution_count": 20,
   "id": "92501f03-b0bf-4e78-9b87-faeb9c8b0a8b",
   "metadata": {
    "tags": []
   },
   "outputs": [
    {
     "data": {
      "text/plain": [
       "'20160101'"
      ]
     },
     "execution_count": 20,
     "metadata": {},
     "output_type": "execute_result"
    }
   ],
   "source": [
    "dates[0].strftime('%Y%m%d')"
   ]
  },
  {
   "cell_type": "code",
   "execution_count": 9,
   "id": "993c6673-4265-4c4d-bdfa-4465f4ce1678",
   "metadata": {},
   "outputs": [],
   "source": [
    "for folder in folders:\n",
    "    for year in range(2016,2023):\n",
    "        cmd = 'mkdir %s/%s' % (folder, year)\n",
    "        os.system(cmd)"
   ]
  },
  {
   "cell_type": "code",
   "execution_count": 42,
   "id": "e3578604-91c6-4bd9-93ab-59d83b37473d",
   "metadata": {
    "tags": []
   },
   "outputs": [],
   "source": [
    "net = pd.read_parquet('../local_data/tables/links_ifis.gz')\n",
    "#net.set_index('LINKNO', inplace = True)"
   ]
  },
  {
   "cell_type": "code",
   "execution_count": 46,
   "id": "2c21c82c-dc5b-4b49-ae5a-9ff43899707f",
   "metadata": {
    "tags": []
   },
   "outputs": [],
   "source": [
    "net.loc[net.strmOrder >= 3, 'LINKNO'].to_csv('../local_data/tables/links_eqgt_3.csv', index = False)"
   ]
  },
  {
   "cell_type": "code",
   "execution_count": 53,
   "id": "1687a87d-d9ba-4f21-ae77-c076a4b21b57",
   "metadata": {},
   "outputs": [],
   "source": [
    "l1 = glob.glob('/home/nicolas/hpchome/TMP_20160424T22_f00.tif')"
   ]
  },
  {
   "cell_type": "code",
   "execution_count": 56,
   "id": "f76296b3-20e9-45e1-8272-293715232a79",
   "metadata": {
    "tags": []
   },
   "outputs": [],
   "source": [
    "net = pd.read_parquet('../local_data/tables/links_ifis.gz')\n",
    "net.set_index('LINKNO', inplace = True)"
   ]
  },
  {
   "cell_type": "code",
   "execution_count": 76,
   "id": "bd72710f-d222-4d05-a2ef-23dcb138e259",
   "metadata": {
    "tags": []
   },
   "outputs": [
    {
     "data": {
      "text/html": [
       "<div>\n",
       "<style scoped>\n",
       "    .dataframe tbody tr th:only-of-type {\n",
       "        vertical-align: middle;\n",
       "    }\n",
       "\n",
       "    .dataframe tbody tr th {\n",
       "        vertical-align: top;\n",
       "    }\n",
       "\n",
       "    .dataframe thead th {\n",
       "        text-align: right;\n",
       "    }\n",
       "</style>\n",
       "<table border=\"1\" class=\"dataframe\">\n",
       "  <thead>\n",
       "    <tr style=\"text-align: right;\">\n",
       "      <th></th>\n",
       "      <th>strmOrder</th>\n",
       "      <th>DSContArea</th>\n",
       "      <th>USContArea</th>\n",
       "      <th>strmDrop</th>\n",
       "      <th>Slope</th>\n",
       "      <th>StraightL</th>\n",
       "      <th>Length</th>\n",
       "      <th>np</th>\n",
       "      <th>us1</th>\n",
       "      <th>us2</th>\n",
       "      <th>us3</th>\n",
       "      <th>us4</th>\n",
       "      <th>area</th>\n",
       "    </tr>\n",
       "    <tr>\n",
       "      <th>LINKNO</th>\n",
       "      <th></th>\n",
       "      <th></th>\n",
       "      <th></th>\n",
       "      <th></th>\n",
       "      <th></th>\n",
       "      <th></th>\n",
       "      <th></th>\n",
       "      <th></th>\n",
       "      <th></th>\n",
       "      <th></th>\n",
       "      <th></th>\n",
       "      <th></th>\n",
       "      <th></th>\n",
       "    </tr>\n",
       "  </thead>\n",
       "  <tbody>\n",
       "    <tr>\n",
       "      <th>194665</th>\n",
       "      <td>3</td>\n",
       "      <td>7082142.5</td>\n",
       "      <td>7005842.0</td>\n",
       "      <td>0.00</td>\n",
       "      <td>0.000000</td>\n",
       "      <td>162.8</td>\n",
       "      <td>172.4</td>\n",
       "      <td>2</td>\n",
       "      <td>194441</td>\n",
       "      <td>114025</td>\n",
       "      <td>-1</td>\n",
       "      <td>-1</td>\n",
       "      <td>76752.047</td>\n",
       "    </tr>\n",
       "    <tr>\n",
       "      <th>194441</th>\n",
       "      <td>3</td>\n",
       "      <td>6741540.5</td>\n",
       "      <td>6740040.5</td>\n",
       "      <td>0.00</td>\n",
       "      <td>0.000000</td>\n",
       "      <td>28.3</td>\n",
       "      <td>28.3</td>\n",
       "      <td>2</td>\n",
       "      <td>193993</td>\n",
       "      <td>96777</td>\n",
       "      <td>-1</td>\n",
       "      <td>-1</td>\n",
       "      <td>2195.774</td>\n",
       "    </tr>\n",
       "    <tr>\n",
       "      <th>193993</th>\n",
       "      <td>3</td>\n",
       "      <td>6598240.0</td>\n",
       "      <td>6408738.5</td>\n",
       "      <td>0.00</td>\n",
       "      <td>0.000000</td>\n",
       "      <td>630.0</td>\n",
       "      <td>760.1</td>\n",
       "      <td>2</td>\n",
       "      <td>193769</td>\n",
       "      <td>83785</td>\n",
       "      <td>-1</td>\n",
       "      <td>-1</td>\n",
       "      <td>189634.599</td>\n",
       "    </tr>\n",
       "    <tr>\n",
       "      <th>193769</th>\n",
       "      <td>3</td>\n",
       "      <td>6173237.0</td>\n",
       "      <td>6136437.0</td>\n",
       "      <td>1.93</td>\n",
       "      <td>0.005967</td>\n",
       "      <td>258.1</td>\n",
       "      <td>323.8</td>\n",
       "      <td>2</td>\n",
       "      <td>191977</td>\n",
       "      <td>39433</td>\n",
       "      <td>-1</td>\n",
       "      <td>-1</td>\n",
       "      <td>43915.494</td>\n",
       "    </tr>\n",
       "    <tr>\n",
       "      <th>191977</th>\n",
       "      <td>3</td>\n",
       "      <td>5852135.5</td>\n",
       "      <td>5473533.0</td>\n",
       "      <td>2.78</td>\n",
       "      <td>0.003109</td>\n",
       "      <td>771.6</td>\n",
       "      <td>893.6</td>\n",
       "      <td>2</td>\n",
       "      <td>190857</td>\n",
       "      <td>234</td>\n",
       "      <td>-1</td>\n",
       "      <td>-1</td>\n",
       "      <td>378175.631</td>\n",
       "    </tr>\n",
       "  </tbody>\n",
       "</table>\n",
       "</div>"
      ],
      "text/plain": [
       "        strmOrder  DSContArea  USContArea  strmDrop     Slope  StraightL  \\\n",
       "LINKNO                                                                     \n",
       "194665          3   7082142.5   7005842.0      0.00  0.000000      162.8   \n",
       "194441          3   6741540.5   6740040.5      0.00  0.000000       28.3   \n",
       "193993          3   6598240.0   6408738.5      0.00  0.000000      630.0   \n",
       "193769          3   6173237.0   6136437.0      1.93  0.005967      258.1   \n",
       "191977          3   5852135.5   5473533.0      2.78  0.003109      771.6   \n",
       "\n",
       "        Length  np     us1     us2  us3  us4        area  \n",
       "LINKNO                                                    \n",
       "194665   172.4   2  194441  114025   -1   -1   76752.047  \n",
       "194441    28.3   2  193993   96777   -1   -1    2195.774  \n",
       "193993   760.1   2  193769   83785   -1   -1  189634.599  \n",
       "193769   323.8   2  191977   39433   -1   -1   43915.494  \n",
       "191977   893.6   2  190857     234   -1   -1  378175.631  "
      ]
     },
     "execution_count": 76,
     "metadata": {},
     "output_type": "execute_result"
    }
   ],
   "source": [
    "net.head()"
   ]
  },
  {
   "cell_type": "code",
   "execution_count": 86,
   "id": "bd0e3b5d-48f2-474e-9787-0a0d40a7c8c5",
   "metadata": {
    "tags": []
   },
   "outputs": [],
   "source": [
    "lids = net.index.values\n",
    "us1 = net.us1.values"
   ]
  },
  {
   "cell_type": "code",
   "execution_count": 87,
   "id": "377fb37f-1309-46c8-b05d-e43ddd5a5812",
   "metadata": {
    "tags": []
   },
   "outputs": [],
   "source": [
    "shared1 = np.argwhere(np.in1d(us1, lids)).T[0]"
   ]
  },
  {
   "cell_type": "markdown",
   "id": "6dce6c06-4a7b-4b47-ae06-78f827deb724",
   "metadata": {},
   "source": [
    "## Test binary created "
   ]
  },
  {
   "cell_type": "code",
   "execution_count": 2,
   "id": "39605886-991f-40bf-b8d3-562c27729d6a",
   "metadata": {
    "tags": []
   },
   "outputs": [],
   "source": [
    "\n",
    "def read_bin(path):\n",
    "    return np.fromfile(path,\n",
    "                       dtype=np.dtype([('lid', np.int32),\n",
    "                                       ('val', np.float32)]) ,\n",
    "                       offset=4,)   "
   ]
  },
  {
   "cell_type": "code",
   "execution_count": 3,
   "id": "5b5d1d10-05c6-484b-b22a-42cfeb56001f",
   "metadata": {
    "tags": []
   },
   "outputs": [],
   "source": [
    "d = read_bin('/home/nicolas/LSS/IFC/data_bin/new_ifis/waverly/RH/2020/1585947600')"
   ]
  },
  {
   "cell_type": "code",
   "execution_count": 4,
   "id": "b8b4a289-cd8c-4c76-b503-4e1eaac45bfe",
   "metadata": {
    "tags": []
   },
   "outputs": [],
   "source": [
    "import pylab as pl \n"
   ]
  },
  {
   "cell_type": "code",
   "execution_count": null,
   "id": "93a9f12d-39b8-47d8-91de-608c4f59d422",
   "metadata": {
    "tags": []
   },
   "outputs": [],
   "source": [
    "pylustrator.start()\n",
    "pl.hist(d['val'])"
   ]
  },
  {
   "cell_type": "code",
   "execution_count": 20,
   "id": "491fe700-7c6e-4893-9a10-c1d93ef7e6fb",
   "metadata": {
    "tags": []
   },
   "outputs": [
    {
     "data": {
      "text/plain": [
       "Timestamp('2020-04-01 21:00:00')"
      ]
     },
     "execution_count": 20,
     "metadata": {},
     "output_type": "execute_result"
    }
   ],
   "source": [
    "pd.Timestamp(1585774800, unit = 's')"
   ]
  },
  {
   "cell_type": "code",
   "execution_count": 8,
   "id": "9ac6f833-7b6c-45eb-b0dc-42be89dc4895",
   "metadata": {
    "tags": []
   },
   "outputs": [],
   "source": [
    "f = open('../local_data/tables/waverly_temp.txt','w')\n",
    "f.write('lid, val\\n')\n",
    "for lid, val in zip(d['lid'], d['val']):\n",
    "    f.write('%d, %.1f\\n' % (lid, val))\n",
    "f.close()"
   ]
  }
 ],
 "metadata": {
  "kernelspec": {
   "display_name": "Python 3",
   "language": "python",
   "name": "general"
  },
  "language_info": {
   "codemirror_mode": {
    "name": "ipython",
    "version": 3
   },
   "file_extension": ".py",
   "mimetype": "text/x-python",
   "name": "python",
   "nbconvert_exporter": "python",
   "pygments_lexer": "ipython3",
   "version": "3.8.13"
  },
  "toc": {
   "base_numbering": 1,
   "nav_menu": {},
   "number_sections": true,
   "sideBar": true,
   "skip_h1_title": false,
   "title_cell": "Table of Contents",
   "title_sidebar": "Contents",
   "toc_cell": false,
   "toc_position": {},
   "toc_section_display": true,
   "toc_window_display": false
  }
 },
 "nbformat": 4,
 "nbformat_minor": 5
}
