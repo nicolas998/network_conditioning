{
 "cells": [
  {
   "cell_type": "code",
   "execution_count": 1,
   "metadata": {
    "ExecuteTime": {
     "end_time": "2023-10-05T20:08:37.642956Z",
     "start_time": "2023-10-05T20:08:37.167711Z"
    },
    "tags": []
   },
   "outputs": [],
   "source": [
    "#import geopandas as gp \n",
    "import pandas as pd \n",
    "import numpy as np \n",
    "import glob \n",
    "import osgeo\n",
    "import gdal \n",
    "from osgeo import osr, ogr"
   ]
  },
  {
   "cell_type": "code",
   "execution_count": 6,
   "metadata": {
    "ExecuteTime": {
     "end_time": "2023-10-05T20:10:47.771681Z",
     "start_time": "2023-10-05T20:10:47.712368Z"
    }
   },
   "outputs": [],
   "source": [
    "def read_raster(path_map,isDEMorDIR=False,dxp=None, noDataP = None,isDIR = False,DIRformat = 'r.watershed'):\n",
    "    'Funcion: read_map\\n'\\\n",
    "    'Descripcion: Lee un mapa raster soportado por GDAL.\\n'\\\n",
    "    'Parametros Obligatorios:.\\n'\\\n",
    "    '   -path_map: path donde se encuentra el mapa.\\n'\\\n",
    "    'Parametros Opcionales:.\\n'\\\n",
    "    '   -isDEMorDIR: Pasa las propiedades de los mapas al modulo cuencas \\n'\\\n",
    "    '       escrito en fortran \\n'\\\n",
    "    '   -dxp: tamano plano del mapa\\n'\\\n",
    "    '   -noDataP: Valor para datos nulos en el mapa (-9999)\\n'\\\n",
    "    '   -DIRformat: donde se ha conseguido el mapa dir (r.watershed) \\n'\\\n",
    "    '       - r.watershed: mapa de direcciones obtenido por la funcion de GRASS\\n'\\\n",
    "    '       - opentopo: mapa de direcciones de http://www.opentopography.org/\\n'\\\n",
    "    '   -isDIR: (FALSE) es este un mapa de direcciones\\n'\\\n",
    "    'Retorno:.\\n'\\\n",
    "    '   Si no es DEM o DIR retorna todas las propieades del elemento en un vector.\\n'\\\n",
    "    '       En el siguiente orden: ncols,nrows,xll,yll,dx,nodata.\\n'\\\n",
    "    '   Si es DEM o DIR le pasa las propieades a cuencas para el posterior trazado.\\n'\\\n",
    "    '       de cuencas y link_ids.\\n' \\\n",
    "    #Abre el mapa\n",
    "    direction=gdal.Open(path_map)\n",
    "    #Projection\n",
    "    proj = osgeo.osr.SpatialReference(wkt=direction.GetProjection())\n",
    "    EPSG_code = proj.GetAttrValue('AUTHORITY',1)\n",
    "    #lee la informacion del mapa\n",
    "    ncols=direction.RasterXSize\n",
    "    nrows=direction.RasterYSize\n",
    "    banda=direction.GetRasterBand(1)\n",
    "    noData=banda.GetNoDataValue()\n",
    "    geoT=direction.GetGeoTransform()\n",
    "    dx=geoT[1]\n",
    "    dy=geoT[-1]\n",
    "    xll=geoT[0]; yll=geoT[3]\n",
    "    #lee el mapa\n",
    "    Mapa=direction.ReadAsArray()\n",
    "    direction.FlushCache()\n",
    "    del direction\n",
    "    return Mapa.astype(float),[ncols,nrows,xll,yll,dx,dy,noData],EPSG_code\n",
    "\n",
    "\n",
    "def get_slice_location(po,ps):\n",
    "    '''uses the prop of the origin and slice to obtain the \n",
    "    Columns before and after, Cb and Ca, respectively and \n",
    "    the Number of rows before (Rb)'''\n",
    "    # Deine the X and y's \n",
    "    x1 = ps[2]\n",
    "    y1 = ps[3]#+ps[5]*ps[1]\n",
    "    Nc1 = ps[0]\n",
    "    Nr1 = ps[1]\n",
    "\n",
    "    x2 = po[2]\n",
    "    y2 = po[3]#+po[5]*po[1]\n",
    "    Nc2 = po[0]\n",
    "    Nr2 = po[1]\n",
    "\n",
    "    dx = po[4]\n",
    "    dy = po[5]\n",
    "    \n",
    "    Cb = int(np.ceil((x1-x2)/dx))\n",
    "    Ca = int(Cb + Nc1)\n",
    "    Rb = int(np.ceil((y1 - y2) / dy))\n",
    "    return Cb, Ca, Rb, Nr1\n",
    "\n",
    "def save_array2raster(Array, ArrayProp, path, EPSG = 4326, Format = 'GTiff', dtype = 'int32', proj4 = None):\n",
    "    dst_filename = path\n",
    "    #Change the array format to int32 \n",
    "    Array = Array.astype(dtype)\n",
    "    #Formato de condiciones del mapa\n",
    "    x_pixels = Array.shape[1]  # number of pixels in x\n",
    "    y_pixels = Array.shape[0]  # number of pixels in y\n",
    "    PIXEL_SIZE_x = ArrayProp[4]  # size of the pixel... \n",
    "    PIXEL_SIZE_y = ArrayProp[5]  # size of the pixel...\n",
    "    x_min = ArrayProp[2]\n",
    "    y_max = ArrayProp[3] #+ ArrayProp[5] * ArrayProp[1] # x_min & y_max are like the \"top left\" corner.\n",
    "    driver = gdal.GetDriverByName(Format)\n",
    "    #Para encontrar el formato de GDAL\n",
    "    NP2GDAL_CONVERSION = {\n",
    "      \"uint8\": 1,\n",
    "      \"int8\": 1,\n",
    "      \"uint16\": 2,\n",
    "      \"int16\": 3,\n",
    "      \"uint32\": 4,\n",
    "      \"int32\": 5,\n",
    "      \"float32\": 6,\n",
    "      \"float64\": 7,\n",
    "      \"complex64\": 10,\n",
    "      \"complex128\": 11,\n",
    "    }\n",
    "    gdaltype = NP2GDAL_CONVERSION[Array.dtype.name]\n",
    "    # Crea el driver\n",
    "    dataset = driver.Create(\n",
    "        dst_filename,\n",
    "        x_pixels,\n",
    "        y_pixels,\n",
    "        1,\n",
    "        gdaltype,)\n",
    "    #coloca la referencia espacial\n",
    "    dataset.SetGeoTransform((\n",
    "        x_min,    # 0\n",
    "        PIXEL_SIZE_x,  # 1\n",
    "        0,                      # 2\n",
    "        y_max,    # 3\n",
    "        0,                      # 4\n",
    "        PIXEL_SIZE_y))\n",
    "    #coloca la proyeccion a partir de un EPSG\n",
    "    proj = osgeo.osr.SpatialReference()\n",
    "    if proj4 == None:\n",
    "        texto = 'EPSG:' + str(EPSG)\n",
    "        proj.SetWellKnownGeogCS( texto )\n",
    "    else:\n",
    "        proj.SetProjection(proj4)\n",
    "    dataset.SetProjection(proj.ExportToWkt())\n",
    "    #Coloca el nodata\n",
    "    band = dataset.GetRasterBand(1)\n",
    "    if ArrayProp[-1] is None:\n",
    "        band.SetNoDataValue(-9999)\n",
    "    else:\n",
    "        band.SetNoDataValue(int(ArrayProp[-1]))\n",
    "    #Guarda el mapa\n",
    "    dataset.GetRasterBand(1).WriteArray(Array)\n",
    "    dataset.FlushCache()"
   ]
  },
  {
   "cell_type": "markdown",
   "metadata": {},
   "source": [
    "# Example of steps 1 to 3 (creating the ranks matrix)"
   ]
  },
  {
   "cell_type": "code",
   "execution_count": 7,
   "metadata": {
    "ExecuteTime": {
     "end_time": "2023-10-05T16:59:10.425809Z",
     "start_time": "2023-10-05T16:59:08.906545Z"
    }
   },
   "outputs": [],
   "source": [
    "original, prop_o, epsg = read_raster('/mnt/c/Users/nicolas/Documents/2022_highDef_IFC/mrms/for_luts/MRMS_base_20230309-19.tif')\n",
    "sliced, prop_s, epsg = read_raster('../local_data/luts_mrms/mrms_slice.tif')\n",
    "Cb, Ca, Rb, Nr1 = get_slice_location(prop_o, prop_s)"
   ]
  },
  {
   "cell_type": "code",
   "execution_count": 8,
   "metadata": {
    "ExecuteTime": {
     "end_time": "2023-10-05T16:59:20.169077Z",
     "start_time": "2023-10-05T16:59:20.042053Z"
    }
   },
   "outputs": [],
   "source": [
    "#Get the rank matrix\n",
    "ranks = np.arange(0, original.size)\n",
    "ranks = ranks.reshape(original.shape)\n",
    "\n",
    "#Sve a tif map with the ranks \n",
    "ranks_slice = ranks[Rb:Rb+Nr1, Cb:Ca]\n",
    "save_array2raster(ranks_slice, \n",
    "                  prop_s,\n",
    "             '../local_data/luts_mrms/ranks.tif')"
   ]
  },
  {
   "cell_type": "markdown",
   "metadata": {},
   "source": [
    "# Example of lut creation with ranks and hillslopes "
   ]
  },
  {
   "cell_type": "code",
   "execution_count": 2,
   "metadata": {
    "tags": []
   },
   "outputs": [],
   "source": [
    "#Reads the hillslopes and ranks \n",
    "h = gp.read_file('../../2023_newIFIS/vectors/')\n",
    "r = gp.read_file('../maps/ranks4luts.shp')\n",
    "\n",
    "#Makes the union between both\n",
    "union = gp.overlay(h, r, how='intersection', )\n",
    "union['area_r'] = union.area\n",
    "union.set_index('LINKNO', inplace = True)\n",
    "\n",
    "#Gets the weigth\n",
    "lids = union.index.values\n",
    "ranks = union['rank'].values\n",
    "areas = union['area_r'].values\n",
    "w = np.zeros(union.shape[0])\n",
    "for lid in np.unique(lids):\n",
    "    p = np.where(lids == lid)\n",
    "    w[p] = areas[p]/areas[p].sum()\n",
    "    \n",
    "#Save the lut in a npz file \n",
    "lut_dtype = np.dtype(\n",
    "    [\n",
    "        ('lid', np.int32),\n",
    "        ('xy1d', np.int32),\n",
    "        ('weight', np.float32)\n",
    "    ]\n",
    ")\n",
    "sorter = np.argsort(lids)    \n",
    "rec = np.core.records.fromarrays(\n",
    "    (\n",
    "        np.asarray(lids)[sorter],\n",
    "        np.asarray(ranks)[sorter],\n",
    "        np.asarray(w)[sorter]\n",
    "    ),\n",
    "    dtype=lut_dtype\n",
    ")\n",
    "path = '../luts/example_luts.npy'\n",
    "np.save(path, rec)"
   ]
  },
  {
   "cell_type": "markdown",
   "metadata": {
    "tags": []
   },
   "source": [
    "## Testing the created lut"
   ]
  },
  {
   "cell_type": "code",
   "execution_count": 2,
   "metadata": {
    "ExecuteTime": {
     "end_time": "2023-10-05T20:10:21.462487Z",
     "start_time": "2023-10-05T20:10:21.448380Z"
    },
    "tags": []
   },
   "outputs": [],
   "source": [
    "lut = np.load('../luts/example_luts.npy')"
   ]
  },
  {
   "cell_type": "code",
   "execution_count": 39,
   "metadata": {
    "ExecuteTime": {
     "end_time": "2023-10-06T13:04:51.765162Z",
     "start_time": "2023-10-06T13:04:49.703994Z"
    },
    "tags": []
   },
   "outputs": [],
   "source": [
    "mrms, prop, epsg = read_raster('/mnt/c/Users/nicolas/Documents/2022_highDef_IFC/mrms/for_luts/MRMS_base_20230309-19.tif')\n",
    "mrms = mrms.reshape(mrms.size)\n",
    "mrms = mrms[lut['xy1d']]"
   ]
  },
  {
   "cell_type": "code",
   "execution_count": 28,
   "metadata": {
    "ExecuteTime": {
     "end_time": "2023-10-05T20:28:30.144987Z",
     "start_time": "2023-10-05T20:28:30.031514Z"
    },
    "tags": []
   },
   "outputs": [],
   "source": [
    "rain = np.zeros(lut['lid'].shape)\n",
    "for lid in np.unique(lut['lid']):\n",
    "    p = np.where(lut['lid'] == lid)\n",
    "    rain[p] = np.sum(mrms[p] * lut['weight'][p])"
   ]
  },
  {
   "cell_type": "code",
   "execution_count": 31,
   "metadata": {
    "ExecuteTime": {
     "end_time": "2023-10-05T20:41:07.281503Z",
     "start_time": "2023-10-05T20:41:07.257295Z"
    }
   },
   "outputs": [],
   "source": [
    "f = open('../luts/example_result.txt','w')\n",
    "f.write('link, rain\\n')\n",
    "for lid, r in zip(lut['lid'], rain):\n",
    "    f.write('%d, %.2f\\n' % (lid, r))\n",
    "f.close()"
   ]
  },
  {
   "cell_type": "markdown",
   "metadata": {},
   "source": [
    "### Test without iteration (the way to do it)"
   ]
  },
  {
   "cell_type": "code",
   "execution_count": 142,
   "metadata": {
    "ExecuteTime": {
     "end_time": "2023-10-06T19:59:00.629687Z",
     "start_time": "2023-10-06T19:59:00.618151Z"
    }
   },
   "outputs": [],
   "source": [
    "def MRMStime2unix(file):\n",
    "    return int(datetime.strptime(file.split('_')[-1][:-10], '%Y%m%d-%H').replace(tzinfo=timezone.utc).timestamp())\n",
    "\n",
    "#Function to sum the vals using the positions \n",
    "def grp_sum(vals, lids):\n",
    "    vals = vals.astype(np.float64)\n",
    "    vals.cumsum(out=vals)\n",
    "    inx = np.ones(len(lids), 'bool')\n",
    "    inx[:-1] = lids[1:] != lids[:-1]\n",
    "    unique_lids = lids[inx]\n",
    "    vals = vals[inx]\n",
    "    vals[1:] = vals[1:] - vals[:-1]\n",
    "    return unique_lids, vals.astype(np.float32)\n",
    "\n",
    "def saveBin(lid, lid_vals, count, fn):\n",
    "    io_buffer_size = 4+4*100000\n",
    "    lid = (lid)\n",
    "    lid_vals = (lid_vals)\n",
    "    fh = io.open(fn, 'wb', io_buffer_size)\n",
    "    fh.write(pack('<I', count))\n",
    "    for vals in zip(lid, lid_vals):\n",
    "        fh.write(pack('<If', *vals))\n",
    "    fh.close()\n",
    "\n",
    "def file2vals(file, threshold, out_path , timeConversion = MRMStime2unix):\n",
    "    #Reads the forcing and converts it to the hill shape\n",
    "    vals, prop, epsg = read_raster(file)\n",
    "    vals = vals.reshape(vals.size)\n",
    "    w_vals = vals[lut['xy1d']] * lut['weight']\n",
    "    \n",
    "    #Sum the values for each link\n",
    "    ulids, val = grp_sum(w_vals, lut['lid'])\n",
    "    \n",
    "    #Writes a binary file \n",
    "    p = np.where(val > threshold)\n",
    "    unix = timeConversion(file)\n",
    "    saveBin(ulids[p], val[p], val[p].size, out_path+str(unix))\n",
    "    \n",
    "    "
   ]
  },
  {
   "cell_type": "code",
   "execution_count": 120,
   "metadata": {
    "ExecuteTime": {
     "end_time": "2023-10-06T19:17:22.499429Z",
     "start_time": "2023-10-06T19:17:22.495100Z"
    }
   },
   "outputs": [],
   "source": [
    "import glob \n",
    "from multiprocessing import Pool\n",
    "from struct import pack\n",
    "import io\n",
    "from datetime import datetime, timezone"
   ]
  },
  {
   "cell_type": "code",
   "execution_count": 66,
   "metadata": {
    "ExecuteTime": {
     "end_time": "2023-10-06T16:30:27.169424Z",
     "start_time": "2023-10-06T16:30:24.157321Z"
    }
   },
   "outputs": [],
   "source": [
    "\n",
    "#Convert mrms for the region\n",
    "mrms, prop, epsg = read_raster('/mnt/y/mrs/hlm/MRMS/2021/05/20/MultiSensor_QPE_01H_Pass2_00.00_20210520-050000.grib2')\n",
    "mrms = mrms.reshape(mrms.size)\n",
    "w_vals = mrms[lut['xy1d']] * lut['weight']"
   ]
  },
  {
   "cell_type": "code",
   "execution_count": 145,
   "metadata": {
    "ExecuteTime": {
     "end_time": "2023-10-06T20:02:15.468751Z",
     "start_time": "2023-10-06T20:02:14.330150Z"
    }
   },
   "outputs": [],
   "source": [
    "#Function to warp the processing \n",
    "def warp(com):\n",
    "    file2vals(*com)\n",
    "\n",
    "\n",
    "#Parameters, date and path to write the results\n",
    "date ='20180502'\n",
    "path_out = '/mnt/x/data_bin/new_ifis/mrms/'\n",
    "\n",
    "#Read the MRMS lut for the whole domain\n",
    "lut = np.load('../local_data/luts/luts_mrms/lut_mrms.npy')\n",
    "\n",
    "#List all the files for a given day\n",
    "list_files = glob.glob('/mnt/y/mrs/hlm/MRMS/%s/%s/%s/*' % (date[:4], date[4:6], date[6:]))\n",
    "\n",
    "#Create the list of commands that will be used to create the binary\n",
    "comands = []\n",
    "for file in list_files:\n",
    "    comands.append((\n",
    "        file, \n",
    "        0.1, \n",
    "        '%s%s/%s/' % (path_out, file.split('_')[-1][:4], file.split('_')[-1][4:6])\n",
    "    ))\n",
    "\n"
   ]
  },
  {
   "cell_type": "code",
   "execution_count": 146,
   "metadata": {
    "ExecuteTime": {
     "end_time": "2023-10-06T20:02:38.703545Z",
     "start_time": "2023-10-06T20:02:16.546201Z"
    }
   },
   "outputs": [],
   "source": [
    "#Creates the binary files \n",
    "p = Pool(8)\n",
    "p.map(warp, comands)\n",
    "p.close()\n",
    "p.join()"
   ]
  },
  {
   "cell_type": "code",
   "execution_count": 138,
   "metadata": {
    "ExecuteTime": {
     "end_time": "2023-10-06T19:56:12.231266Z",
     "start_time": "2023-10-06T19:56:12.225468Z"
    }
   },
   "outputs": [
    {
     "data": {
      "text/plain": [
       "('/mnt/y/mrs/hlm/MRMS/2018/05/01/GaugeCorr_QPE_01H_00.00_20180501-000000.grib2',\n",
       " 0.1,\n",
       " '/mnt/x/data_bin/new_ifis/mrms/2018/05/')"
      ]
     },
     "execution_count": 138,
     "metadata": {},
     "output_type": "execute_result"
    }
   ],
   "source": [
    "comands[0]"
   ]
  },
  {
   "cell_type": "code",
   "execution_count": 134,
   "metadata": {
    "ExecuteTime": {
     "end_time": "2023-10-06T19:52:20.623669Z",
     "start_time": "2023-10-06T19:52:20.617350Z"
    }
   },
   "outputs": [
    {
     "data": {
      "text/plain": [
       "'/mnt/x/data_bin/new_ifis/mrms/2018/05/'"
      ]
     },
     "execution_count": 134,
     "metadata": {},
     "output_type": "execute_result"
    }
   ],
   "source": []
  },
  {
   "cell_type": "code",
   "execution_count": 132,
   "metadata": {
    "ExecuteTime": {
     "end_time": "2023-10-06T19:52:12.407458Z",
     "start_time": "2023-10-06T19:52:12.401451Z"
    }
   },
   "outputs": [
    {
     "data": {
      "text/plain": [
       "'05'"
      ]
     },
     "execution_count": 132,
     "metadata": {},
     "output_type": "execute_result"
    }
   ],
   "source": [
    "f.split('_')[-1][4:6]"
   ]
  },
  {
   "cell_type": "code",
   "execution_count": null,
   "metadata": {},
   "outputs": [],
   "source": []
  },
  {
   "cell_type": "code",
   "execution_count": null,
   "metadata": {},
   "outputs": [],
   "source": []
  },
  {
   "cell_type": "code",
   "execution_count": null,
   "metadata": {},
   "outputs": [],
   "source": []
  },
  {
   "cell_type": "code",
   "execution_count": null,
   "metadata": {},
   "outputs": [],
   "source": []
  }
 ],
 "metadata": {
  "kernelspec": {
   "display_name": "Python 3",
   "language": "python",
   "name": "python3"
  },
  "language_info": {
   "codemirror_mode": {
    "name": "ipython",
    "version": 3
   },
   "file_extension": ".py",
   "mimetype": "text/x-python",
   "name": "python",
   "nbconvert_exporter": "python",
   "pygments_lexer": "ipython3",
   "version": "3.6.9"
  },
  "toc": {
   "base_numbering": 1,
   "nav_menu": {},
   "number_sections": true,
   "sideBar": true,
   "skip_h1_title": false,
   "title_cell": "Table of Contents",
   "title_sidebar": "Contents",
   "toc_cell": false,
   "toc_position": {},
   "toc_section_display": true,
   "toc_window_display": false
  }
 },
 "nbformat": 4,
 "nbformat_minor": 5
}
