{
 "cells": [
  {
   "cell_type": "code",
   "execution_count": 1,
   "id": "49e1bcb2-535f-4685-b46a-d121026e3bfd",
   "metadata": {
    "tags": []
   },
   "outputs": [],
   "source": [
    "import geopandas as gp \n",
    "import numpy as np \n",
    "import json\n",
    "import pandas as pd \n",
    "import sys \n",
    "sys.path.insert(0, '/home/nicolas/hpchome/network_conditioning/codes/')\n",
    "import network_functions as netf\n",
    "import pylab as pl "
   ]
  },
  {
   "cell_type": "markdown",
   "id": "5b45121e-6b7e-4427-8c77-c9a9fc3746c8",
   "metadata": {},
   "source": [
    "# Example with an small network "
   ]
  },
  {
   "cell_type": "code",
   "execution_count": 2,
   "id": "6c7fea53-2647-4142-9f03-e91733bff266",
   "metadata": {
    "tags": []
   },
   "outputs": [],
   "source": [
    "net = gp.read_file('../maps/demnet_no_ghosts.shp')\n",
    "net.set_index('LINKNO', inplace = True)"
   ]
  },
  {
   "cell_type": "code",
   "execution_count": 6,
   "id": "2a2fa355-26ac-44e1-b5dc-f8acdc300609",
   "metadata": {
    "tags": []
   },
   "outputs": [],
   "source": [
    "link = 6811\n",
    "sub = netf.get_subwatershed(net, link)"
   ]
  },
  {
   "cell_type": "code",
   "execution_count": 21,
   "id": "46a62c68-4083-44d2-8bbc-4b55113270e9",
   "metadata": {
    "tags": []
   },
   "outputs": [],
   "source": [
    "def hlm_write_rvr(net, path):\n",
    "    '''Takes a network that has been proccessed with remove_virtual_links.py and extracts the rvr \n",
    "    file required for HLM at the designed path'''\n",
    "    parents_name = ['us%d' % i for i in range(1,11)]\n",
    "    with open(path,'w',newline='\\n') as f:\n",
    "        f.write('%d\\n' % net.shape[0])\n",
    "        f.write('\\n')\n",
    "        for link in net.index:\n",
    "            f.write('%d\\n' % link)\n",
    "            if net.loc[link,'us1'] == -1:\n",
    "                f.write('0\\n')\n",
    "            else:\n",
    "                parents = net.loc[link, parents_name].values\n",
    "                parents = parents[parents > 0]\n",
    "                f.write('%d ' % parents.size)\n",
    "                for parent in parents:\n",
    "                    f.write('%d ' % parent)\n",
    "                f.write('\\n\\n')            \n",
    "            f.write('\\n')\n",
    "        f.close()"
   ]
  },
  {
   "cell_type": "code",
   "execution_count": 22,
   "id": "856a59b4-6fc1-425c-aa61-96b1e25178e3",
   "metadata": {
    "tags": []
   },
   "outputs": [],
   "source": [
    "path = '../hlm_files/example.rvr'\n",
    "hlm_write_rvr(sub, '../hlm_files/example2.rvr')"
   ]
  },
  {
   "cell_type": "markdown",
   "id": "f3c1f216-7e16-4ac2-bca5-27641ff570aa",
   "metadata": {},
   "source": [
    "# Fix the hillslope area of the network (already done, just load the network)"
   ]
  },
  {
   "cell_type": "code",
   "execution_count": 9,
   "id": "34bb27d1-a1e1-4975-8a16-e0915139ce8c",
   "metadata": {
    "tags": []
   },
   "outputs": [],
   "source": [
    "#Read the network\n",
    "net = pd.read_parquet('../local_data/tables/links_ifis.gz')\n",
    "net.set_index('LINKNO', inplace = True)"
   ]
  },
  {
   "cell_type": "code",
   "execution_count": 10,
   "id": "44683bf3-8983-45f6-b9b4-3356e8129b49",
   "metadata": {
    "tags": []
   },
   "outputs": [],
   "source": [
    "#USGS gauges linked to network \n",
    "usgs = pd.read_csv('../local_data/tables/usgs_temporal_linked_w_trimmed.csv')\n",
    "usgs.set_index('LINKNO', inplace = True)\n",
    "usgs.drop_duplicates(inplace = True)\n",
    "usgs['net_area'] = net.loc[usgs.index,'DSContArea']/1e6"
   ]
  },
  {
   "cell_type": "markdown",
   "id": "3a9d7c5a-2018-44aa-b35c-a4231532fbae",
   "metadata": {},
   "source": [
    "The following cod takes a table with the hillslopes area information and adds it to the links "
   ]
  },
  {
   "cell_type": "code",
   "execution_count": null,
   "id": "bc3fd1fd-fd37-408a-997f-989e451027e7",
   "metadata": {},
   "outputs": [],
   "source": [
    "#Read the hillslope areas \n",
    "# hills = pd.read_csv('../local_data/tables/hills_from_trimmed.csv')\n",
    "# hills.set_index('LINKNO', inplace = True)\n",
    "# hills = hills.groupby(hills.index).sum()\n",
    "# idx = net.index.intersection(hills.index)\n",
    "# net.loc[idx, 'area'] = hills.loc[idx, 'area']\n",
    "# net.reset_index(inplace=True)\n",
    "# net.to_parquet('../local_data/tables/links_ifis.gz')"
   ]
  },
  {
   "cell_type": "markdown",
   "id": "62bd887a-4519-4f7a-9fee-d629445f0f4f",
   "metadata": {},
   "source": [
    "# Case with the final network "
   ]
  },
  {
   "cell_type": "code",
   "execution_count": 2,
   "id": "8eccf684-bbd5-48dc-bfbf-735b527cfae6",
   "metadata": {
    "tags": []
   },
   "outputs": [],
   "source": [
    "# net = pd.read_csv('../local_data/links_all_no_ghosts.csv')\n",
    "# sel = pd.read_csv('../local_data/links_final_sel.csv')\n",
    "# net.set_index('LINKNO', inplace = True)\n",
    "# net = net.loc[sel['LINKNO'].values]"
   ]
  },
  {
   "cell_type": "code",
   "execution_count": 10,
   "id": "4bb600e7-9500-4b06-b154-75d9cbf00801",
   "metadata": {},
   "outputs": [],
   "source": [
    "# net.drop(['us%d' % i for i in range(5,11)],axis = 1, inplace = True)"
   ]
  },
  {
   "cell_type": "code",
   "execution_count": 12,
   "id": "d6b14f94-4ce3-451f-9f8f-068afd2d5379",
   "metadata": {
    "tags": []
   },
   "outputs": [],
   "source": [
    "# net.reset_index(inplace=True)"
   ]
  },
  {
   "cell_type": "code",
   "execution_count": 16,
   "id": "160ceade-2577-40a3-ac56-67e5f90c0d8f",
   "metadata": {
    "tags": []
   },
   "outputs": [],
   "source": [
    "# net[['LINKNO','np','us1','us2','us3','us4']].to_csv('../local_data/links_final_sel_w_new_parents.csv')"
   ]
  },
  {
   "cell_type": "markdown",
   "id": "c652959c-65fd-4d57-999d-4a95978cd988",
   "metadata": {},
   "source": [
    "### Another case with the trimmed network here we save it as a parquet "
   ]
  },
  {
   "cell_type": "code",
   "execution_count": 56,
   "id": "52c8e643-dffb-4192-8ddc-4e2b2e7ac1bb",
   "metadata": {},
   "outputs": [],
   "source": [
    "net = pd.read_csv('../local_data/tables/links_final_sel_w_new_parents_trimmed.csv')\n",
    "net[['LINKNO','strmOrder','DSContArea','USContArea','strmDrop','Slope','StraightL','Length','np','us1','us2','us3','us4']].to_parquet('../local_data/tables/links_ifis.gz',                                                                                                                                      compression = 'gzip')"
   ]
  },
  {
   "cell_type": "markdown",
   "id": "1e969359-96c0-473a-88f5-b512b6f2b011",
   "metadata": {},
   "source": [
    "# Set files to run Turkey"
   ]
  },
  {
   "cell_type": "code",
   "execution_count": 18,
   "id": "5032a04a-bb17-446b-919c-145987fa116e",
   "metadata": {
    "tags": []
   },
   "outputs": [],
   "source": [
    "net_turkey = netf.get_subwatershed(net, 1840958)"
   ]
  },
  {
   "cell_type": "code",
   "execution_count": 58,
   "id": "f6e9e6e3-d2ab-477a-9329-1e9f465d86a6",
   "metadata": {
    "tags": []
   },
   "outputs": [
    {
     "data": {
      "text/plain": [
       "(12, 13)"
      ]
     },
     "execution_count": 58,
     "metadata": {},
     "output_type": "execute_result"
    }
   ],
   "source": [
    "net_turkey.loc[net_turkey['area'] < 200].shape"
   ]
  },
  {
   "cell_type": "code",
   "execution_count": 6,
   "id": "43f93e14-be3b-4987-9bc3-f28ebff4d92a",
   "metadata": {
    "tags": []
   },
   "outputs": [],
   "source": [
    "netf.hlm_write_rvr(net_turkey, '../local_data/ifis_config/turkey.rvr')"
   ]
  },
  {
   "cell_type": "code",
   "execution_count": 19,
   "id": "60ca72cc-e726-4c8d-a0c4-caa346f22279",
   "metadata": {
    "tags": []
   },
   "outputs": [],
   "source": [
    "model = '608'\n",
    "netf.hlm_write_prm(net_turkey, '../local_data/ifis_config/turkey.prm')"
   ]
  },
  {
   "cell_type": "code",
   "execution_count": 14,
   "id": "c2e549ef-2c88-46eb-afec-7262099f5fd7",
   "metadata": {
    "tags": []
   },
   "outputs": [],
   "source": [
    "f = open('../local_data/ifis_config/turkey.sav','w')\n",
    "for i in usgs.index.intersection(net_turkey.index):\n",
    "    f.write('%d\\n' % i)\n",
    "f.close()\n"
   ]
  },
  {
   "cell_type": "markdown",
   "id": "4ea38153-7348-46c1-9dee-73ded3e6fa11",
   "metadata": {},
   "source": [
    "# Files to run Cedar River"
   ]
  },
  {
   "cell_type": "code",
   "execution_count": 70,
   "id": "529bec67-bbae-4b99-a723-67857bc1b6ee",
   "metadata": {
    "tags": []
   },
   "outputs": [],
   "source": []
  },
  {
   "cell_type": "code",
   "execution_count": 20,
   "id": "6090ca08-ed14-430b-abf6-df999cb9152f",
   "metadata": {
    "tags": []
   },
   "outputs": [],
   "source": [
    "net_cedar = netf.get_subwatershed(net, 1844585)"
   ]
  },
  {
   "cell_type": "code",
   "execution_count": 21,
   "id": "aa49a8ad-77cf-4ae4-90e5-1ab12fed218e",
   "metadata": {
    "tags": []
   },
   "outputs": [],
   "source": [
    "netf.hlm_write_rvr(net_cedar, '../local_data/ifis_config/cedar.rvr')"
   ]
  },
  {
   "cell_type": "code",
   "execution_count": 23,
   "id": "dc2393a3-0a4a-4c0c-8999-d261a7950f2d",
   "metadata": {
    "tags": []
   },
   "outputs": [],
   "source": [
    "model = '608'\n",
    "netf.hlm_write_prm(net_cedar, '../local_data/ifis_config/cedar.prm')"
   ]
  },
  {
   "cell_type": "code",
   "execution_count": 19,
   "id": "5f9aee77-7bda-4b7e-a014-75ead7f078c6",
   "metadata": {
    "tags": []
   },
   "outputs": [],
   "source": [
    "f = open('../local_data/ifis_config/cedar.sav','w')\n",
    "for i in usgs.index.intersection(net_cedar.index):\n",
    "    f.write('%d\\n' % i)\n",
    "f.close()\n"
   ]
  },
  {
   "cell_type": "markdown",
   "id": "75b2d728-9a07-45a6-afa1-83d5f6b80155",
   "metadata": {},
   "source": [
    "# Files for Iowa river at Columbus Junction"
   ]
  },
  {
   "cell_type": "code",
   "execution_count": 12,
   "id": "fe35b63c-eabc-413d-87bc-05329afa6aae",
   "metadata": {
    "tags": []
   },
   "outputs": [],
   "source": [
    "net_iowa = netf.get_subwatershed(net, 1589912)"
   ]
  },
  {
   "cell_type": "code",
   "execution_count": 13,
   "id": "9d564349-9e5e-4864-8417-eee53d18b64d",
   "metadata": {
    "tags": []
   },
   "outputs": [],
   "source": [
    "netf.hlm_write_rvr(net_iowa, '../local_data/ifis_config/iowa_river.rvr')"
   ]
  },
  {
   "cell_type": "code",
   "execution_count": 14,
   "id": "999931b6-a2ff-456a-acf0-f3da1d90aa16",
   "metadata": {
    "tags": []
   },
   "outputs": [],
   "source": [
    "netf.hlm_write_prm(net_iowa, '../local_data/ifis_config/iowa_river.prm', model=None)"
   ]
  },
  {
   "cell_type": "code",
   "execution_count": 18,
   "id": "0a7ce92f-2d3c-44d6-92cb-7269fc008f63",
   "metadata": {
    "tags": []
   },
   "outputs": [],
   "source": [
    "net_iowa.reset_index(inplace=True)\n",
    "net_iowa.to_csv('../local_data/ifis_config/temp_iowa_river.csv')"
   ]
  },
  {
   "cell_type": "markdown",
   "id": "9dc4ddcb-14c6-4a92-b49c-3955aaf54237",
   "metadata": {},
   "source": [
    "## Files for Waverly (Cedar River)"
   ]
  },
  {
   "cell_type": "code",
   "execution_count": 12,
   "id": "6828e629-2b92-44a1-bd52-73517e677e87",
   "metadata": {
    "tags": []
   },
   "outputs": [],
   "source": [
    "net_wav = netf.get_subwatershed(net, 1862015)\n",
    "netf.hlm_write_rvr(net_wav, '../local_data/ifis_config/waverly.rvr')\n",
    "netf.hlm_write_prm(net_wav, '../local_data/ifis_config/waverly.prm', model=None)"
   ]
  },
  {
   "cell_type": "code",
   "execution_count": 13,
   "id": "5c553e84-f37e-4252-9f66-16ba5278a056",
   "metadata": {
    "tags": []
   },
   "outputs": [],
   "source": [
    "net_wav.reset_index(inplace=True)\n",
    "net_wav.to_csv('../local_data/ifis_config/waverly.csv')"
   ]
  },
  {
   "cell_type": "markdown",
   "id": "ca5b6a84-e95f-45b0-826e-5d1c436d277b",
   "metadata": {},
   "source": [
    "# Set files for running the state"
   ]
  },
  {
   "cell_type": "markdown",
   "id": "21d18f60-4d93-432e-a75b-cd909665a433",
   "metadata": {},
   "source": [
    "## Test network coherence "
   ]
  },
  {
   "cell_type": "code",
   "execution_count": 12,
   "id": "e729ab99-1651-404a-85ae-16cb48af931f",
   "metadata": {
    "tags": []
   },
   "outputs": [],
   "source": [
    "noparents = []\n",
    "for link in net.index:\n",
    "    nparents = net.loc[link, 'np']\n",
    "    for parent in np.arange(1, nparents+1):\n",
    "        pname = 'us%d' % parent\n",
    "        plink = net.loc[link, pname]\n",
    "        try:\n",
    "            net.loc[plink]\n",
    "        except:\n",
    "            noparents.append(link)\n",
    "            print(link)"
   ]
  },
  {
   "cell_type": "markdown",
   "id": "ab2304ca-9f53-4650-959b-8db7bb52ae73",
   "metadata": {
    "tags": []
   },
   "source": [
    "## RVR for the state "
   ]
  },
  {
   "cell_type": "code",
   "execution_count": 11,
   "id": "77de2c0d-e833-41e1-b607-2484a9707c7c",
   "metadata": {},
   "outputs": [],
   "source": [
    "netf.hlm_write_rvr(net, '../local_data/ifis_config/ifis_iowa.rvr')"
   ]
  },
  {
   "cell_type": "markdown",
   "id": "7e1e257e-d9c3-442a-ad02-134010c8f6b5",
   "metadata": {},
   "source": [
    "## PRM for the state "
   ]
  },
  {
   "cell_type": "code",
   "execution_count": 19,
   "id": "d98d1b1c-54f5-4be0-952b-0387b80e4e87",
   "metadata": {
    "tags": []
   },
   "outputs": [],
   "source": [
    "mprm = netf.hlm_load_prm_configs('../codes/model_prm_config.json')"
   ]
  },
  {
   "cell_type": "code",
   "execution_count": 20,
   "id": "283a0b4a-595d-4567-806e-5421f4a6f828",
   "metadata": {
    "tags": []
   },
   "outputs": [
    {
     "data": {
      "text/plain": [
       "{'608': ['0.0200 1.6700 3.20e-06 17.0 5.40e-07 32.0 2.04e-06 0.020 0.100 1.480 1.635 1.670 0.250 -0.10 0.320']}"
      ]
     },
     "execution_count": 20,
     "metadata": {},
     "output_type": "execute_result"
    }
   ],
   "source": [
    "mprm"
   ]
  },
  {
   "cell_type": "code",
   "execution_count": 11,
   "id": "47cc8451-6272-4980-aff0-4ab42ac9b993",
   "metadata": {
    "tags": []
   },
   "outputs": [],
   "source": [
    "path = '../hlm_files/ifis_iowa.prm'\n",
    "model = '608'\n",
    "netf.hlm_write_prm(net, path, modprm=mprm)"
   ]
  },
  {
   "cell_type": "markdown",
   "id": "0e94e04c-3ed4-4267-b807-c174af44506c",
   "metadata": {},
   "source": [
    "# USGS and IFC gauges link and area testing"
   ]
  },
  {
   "cell_type": "markdown",
   "id": "005417ee-f6fb-478f-b564-9abd075b7d71",
   "metadata": {},
   "source": [
    "## USGS"
   ]
  },
  {
   "cell_type": "code",
   "execution_count": 3,
   "id": "0e32298d-d076-4376-a6b3-261fb95fc2fb",
   "metadata": {
    "tags": []
   },
   "outputs": [],
   "source": [
    "#Read network table\n",
    "net = pd.read_parquet('../local_data/tables/links_ifis.gz')\n",
    "net.set_index('LINKNO', inplace = True)\n",
    "#net['area'] = (net['DSContArea'] - net['USContArea'])/1e6"
   ]
  },
  {
   "cell_type": "code",
   "execution_count": null,
   "id": "d90bd3f2-d669-4c5b-a166-b3b9a5203c56",
   "metadata": {},
   "outputs": [],
   "source": []
  },
  {
   "cell_type": "code",
   "execution_count": 68,
   "id": "61c3635c-779d-42e3-8a3a-0ba68a1e9528",
   "metadata": {
    "tags": []
   },
   "outputs": [],
   "source": [
    "#Read hills table \n",
    "hills = pd.read_csv('../local_data/tables/hills_from_trimmed.csv')\n",
    "hills = hills.groupby('LINKNO')['area'].sum().reset_index()\n",
    "hills.set_index('LINKNO', inplace = True)"
   ]
  },
  {
   "cell_type": "markdown",
   "id": "0eb4a97f-1532-4943-8a3e-1628865b9dc7",
   "metadata": {},
   "source": [
    "### Identify gauges with issues "
   ]
  },
  {
   "cell_type": "code",
   "execution_count": 17,
   "id": "bce25222-4ff6-49ca-8fc6-61a9681d18f6",
   "metadata": {
    "tags": []
   },
   "outputs": [],
   "source": [
    "usgs['area_error'] = (usgs['DRAIN_SQKM'] - usgs['net_area'])/usgs['DRAIN_SQKM']"
   ]
  },
  {
   "cell_type": "code",
   "execution_count": 18,
   "id": "f02e157f-6b55-4604-b79b-7241b7b7cd51",
   "metadata": {
    "tags": []
   },
   "outputs": [
    {
     "data": {
      "text/html": [
       "<div>\n",
       "<style scoped>\n",
       "    .dataframe tbody tr th:only-of-type {\n",
       "        vertical-align: middle;\n",
       "    }\n",
       "\n",
       "    .dataframe tbody tr th {\n",
       "        vertical-align: top;\n",
       "    }\n",
       "\n",
       "    .dataframe thead th {\n",
       "        text-align: right;\n",
       "    }\n",
       "</style>\n",
       "<table border=\"1\" class=\"dataframe\">\n",
       "  <thead>\n",
       "    <tr style=\"text-align: right;\">\n",
       "      <th></th>\n",
       "      <th>STAID</th>\n",
       "      <th>STANAME</th>\n",
       "      <th>DRAIN_SQKM</th>\n",
       "      <th>net_area</th>\n",
       "      <th>area_error</th>\n",
       "    </tr>\n",
       "    <tr>\n",
       "      <th>LINKNO</th>\n",
       "      <th></th>\n",
       "      <th></th>\n",
       "      <th></th>\n",
       "      <th></th>\n",
       "      <th></th>\n",
       "    </tr>\n",
       "  </thead>\n",
       "  <tbody>\n",
       "    <tr>\n",
       "      <th>901009</th>\n",
       "      <td>6481000</td>\n",
       "      <td>BIG SIOUX R NEAR DELL RAPIDS SD</td>\n",
       "      <td>9662.446</td>\n",
       "      <td>11233.865728</td>\n",
       "      <td>-0.162632</td>\n",
       "    </tr>\n",
       "    <tr>\n",
       "      <th>1384635</th>\n",
       "      <td>6482020</td>\n",
       "      <td>BIG SIOUX R AT NORTH CLIFF AVE AT SIOUX FALLS SD</td>\n",
       "      <td>11568.330</td>\n",
       "      <td>13141.665792</td>\n",
       "      <td>-0.136004</td>\n",
       "    </tr>\n",
       "  </tbody>\n",
       "</table>\n",
       "</div>"
      ],
      "text/plain": [
       "           STAID                                           STANAME  \\\n",
       "LINKNO                                                               \n",
       "901009   6481000                   BIG SIOUX R NEAR DELL RAPIDS SD   \n",
       "1384635  6482020  BIG SIOUX R AT NORTH CLIFF AVE AT SIOUX FALLS SD   \n",
       "\n",
       "         DRAIN_SQKM      net_area  area_error  \n",
       "LINKNO                                         \n",
       "901009     9662.446  11233.865728   -0.162632  \n",
       "1384635   11568.330  13141.665792   -0.136004  "
      ]
     },
     "execution_count": 18,
     "metadata": {},
     "output_type": "execute_result"
    }
   ],
   "source": [
    "usgs.loc[(usgs['area_error']<-0.1) | (usgs['area_error']>0.1)]"
   ]
  },
  {
   "cell_type": "markdown",
   "id": "d52c0216-122d-49a9-a38e-032ebea2c5e0",
   "metadata": {},
   "source": [
    "### Create Sav file for the model using the usgs gauges "
   ]
  },
  {
   "cell_type": "code",
   "execution_count": 19,
   "id": "8e6d3fe5-d55a-48f1-bf4e-b6618741b9ad",
   "metadata": {
    "tags": []
   },
   "outputs": [],
   "source": [
    "f = open('../hlm_files/ifis_usgs.sav','w')\n",
    "for i in usgs.index:\n",
    "    f.write('%d\\n' % i)\n",
    "f.close()"
   ]
  },
  {
   "cell_type": "markdown",
   "id": "d5dc228e-2934-4f4e-a72c-291727d129da",
   "metadata": {},
   "source": [
    "### Compute upstream from hills"
   ]
  },
  {
   "cell_type": "code",
   "execution_count": 78,
   "id": "1f3e2af0-04b7-499f-b195-670519aeca22",
   "metadata": {
    "tags": []
   },
   "outputs": [],
   "source": [
    "from multiprocessing import Pool \n",
    "#Define a warper function and the list with the parameters to obtain the list of links for each watershed\n",
    "def warp(params):\n",
    "    return netf.get_subwatershed(*params).index\n",
    "params = [(net, i) for i in usgs.index]"
   ]
  },
  {
   "cell_type": "code",
   "execution_count": 91,
   "id": "1913d5ec-8358-44a1-9fa8-d96a104f121e",
   "metadata": {
    "tags": []
   },
   "outputs": [],
   "source": [
    "#Obtain the list of links for all the gauges \n",
    "p = Pool(30)\n",
    "links_lids = p.map(warp, params)\n",
    "p.close()\n",
    "p.join()"
   ]
  },
  {
   "cell_type": "code",
   "execution_count": 99,
   "id": "c7dc62c3-3953-4320-a773-d215d8265ff0",
   "metadata": {
    "tags": []
   },
   "outputs": [],
   "source": [
    "#Oranize the data to save it\n",
    "links_lids_dict = {}\n",
    "for lid, _list in zip(usgs.index, links_lids):\n",
    "    links_lids_dict.update({str(lid):_list.tolist()})\n",
    "#Save results to a json\n",
    "with open('../local_data/usgs_links_upstream.json','w') as f:\n",
    "    json.dump(links_lids_dict, f)"
   ]
  },
  {
   "cell_type": "code",
   "execution_count": 100,
   "id": "3e8e3e21-533c-4265-a9fc-32b6b4a73113",
   "metadata": {
    "tags": []
   },
   "outputs": [],
   "source": [
    "#Load the data\n",
    "with open('../local_data/usgs_links_upstream.json','r') as f:\n",
    "    links_lids_dict = json.load(f)"
   ]
  },
  {
   "cell_type": "markdown",
   "id": "2a9a3634-0bb1-4d8d-b022-7a2d285f16ff",
   "metadata": {},
   "source": [
    "#### Compute the area form the hillslopes "
   ]
  },
  {
   "cell_type": "code",
   "execution_count": 104,
   "id": "37464880-41c6-4ce5-b484-ed044976af5b",
   "metadata": {
    "tags": []
   },
   "outputs": [],
   "source": [
    "#Compute the area form the hillslopes \n",
    "areas_from_hills = []\n",
    "for lid in links_lids_dict.keys():\n",
    "    areas_from_hills.append(hills.loc[links_lids_dict[lid],'area'].sum())\n",
    "_d = pd.DataFrame(areas_from_hills, index=[int(lid) for lid in links_lids_dict.keys()], columns=['area_hill'])"
   ]
  },
  {
   "cell_type": "code",
   "execution_count": 112,
   "id": "e1edbb02-1bb8-488a-bec4-026aba346590",
   "metadata": {
    "tags": []
   },
   "outputs": [],
   "source": [
    "usgs['hill_area'] = _d.loc[usgs.index,'area_hill']"
   ]
  },
  {
   "cell_type": "code",
   "execution_count": 116,
   "id": "2d6942b9-f1e4-4f1f-aa1b-2c02dfb760e1",
   "metadata": {
    "tags": []
   },
   "outputs": [
    {
     "data": {
      "text/plain": [
       "Text(0, 0.5, 'USGS reported area [$km^2$]')"
      ]
     },
     "execution_count": 116,
     "metadata": {},
     "output_type": "execute_result"
    },
    {
     "data": {
      "image/png": "[encoded data removed]",
      "text/plain": [
       "<Figure size 640x480 with 1 Axes>"
      ]
     },
     "metadata": {},
     "output_type": "display_data"
    }
   ],
   "source": [
    "pl.scatter(usgs['net_area'], usgs['hill_area'])\n",
    "pl.plot([10,45000],[10,45000],'k')\n",
    "pl.xlim(10,45000)\n",
    "pl.ylim(10,45000)\n",
    "pl.xscale('log')\n",
    "pl.yscale('log')\n",
    "pl.xlabel('Network DSContArea computed by TauDEM [$km^2$]', size  =18)\n",
    "pl.ylabel('USGS reported area [$km^2$]', size  =18)"
   ]
  },
  {
   "cell_type": "code",
   "execution_count": 6,
   "id": "607475bf-8091-4a29-95b3-ae15948fc050",
   "metadata": {
    "tags": []
   },
   "outputs": [],
   "source": []
  },
  {
   "cell_type": "code",
   "execution_count": 11,
   "id": "4cdbb4ae-1795-4676-9eae-ec1995dd4748",
   "metadata": {
    "tags": []
   },
   "outputs": [
    {
     "data": {
      "text/plain": [
       "Text(0, 0.5, 'USGS reported area [$km^2$]')"
      ]
     },
     "execution_count": 11,
     "metadata": {},
     "output_type": "execute_result"
    },
    {
     "data": {
      "image/png": "[encoded data removed]",
      "text/plain": [
       "<Figure size 640x480 with 1 Axes>"
      ]
     },
     "metadata": {},
     "output_type": "display_data"
    }
   ],
   "source": [
    "pl.scatter(usgs['net_area'], usgs['DRAIN_SQKM'])\n",
    "pl.plot([10,45000],[10,45000],'k')\n",
    "pl.xlim(10,45000)\n",
    "pl.ylim(10,45000)\n",
    "pl.xscale('log')\n",
    "pl.yscale('log')\n",
    "pl.xlabel('Network DSContArea computed by TauDEM [$km^2$]', size  =18)\n",
    "pl.ylabel('USGS reported area [$km^2$]', size  =18)"
   ]
  },
  {
   "cell_type": "code",
   "execution_count": 4,
   "id": "d1192b00-364d-4262-9e1d-dba239851368",
   "metadata": {
    "tags": []
   },
   "outputs": [],
   "source": [
    "net['area_km'] = net['area']/1e6\n",
    "#net.loc[net['area_km'] < min_area, 'area_km'] = 0.01\n",
    "net['area_up_km'] = net['DSContArea'] / 1e6\n",
    "net['length_km'] = net['Length']/1000\n",
    "#net.loc[net['length_km'] < min_area, 'length_km'] = 0.01"
   ]
  },
  {
   "cell_type": "markdown",
   "id": "ead28b4f-3af7-48ef-b548-e0000b6ac63f",
   "metadata": {},
   "source": [
    "## IFC"
   ]
  },
  {
   "cell_type": "code",
   "execution_count": 64,
   "id": "47cabcac-c298-4b9b-95b0-fca3c52bfe46",
   "metadata": {
    "tags": []
   },
   "outputs": [
    {
     "data": {
      "text/html": [
       "<div>\n",
       "<style scoped>\n",
       "    .dataframe tbody tr th:only-of-type {\n",
       "        vertical-align: middle;\n",
       "    }\n",
       "\n",
       "    .dataframe tbody tr th {\n",
       "        vertical-align: top;\n",
       "    }\n",
       "\n",
       "    .dataframe thead th {\n",
       "        text-align: right;\n",
       "    }\n",
       "</style>\n",
       "<table border=\"1\" class=\"dataframe\">\n",
       "  <thead>\n",
       "    <tr style=\"text-align: right;\">\n",
       "      <th></th>\n",
       "      <th>#id</th>\n",
       "      <th>foreign_id</th>\n",
       "      <th>total_area</th>\n",
       "      <th>upstream_a</th>\n",
       "      <th>town</th>\n",
       "      <th>river</th>\n",
       "      <th>n</th>\n",
       "      <th>distance</th>\n",
       "      <th>feature_x</th>\n",
       "      <th>feature_y</th>\n",
       "      <th>nearest_x</th>\n",
       "      <th>nearest_y</th>\n",
       "      <th>area_up_km</th>\n",
       "      <th>a_error</th>\n",
       "    </tr>\n",
       "    <tr>\n",
       "      <th>LINKNO</th>\n",
       "      <th></th>\n",
       "      <th></th>\n",
       "      <th></th>\n",
       "      <th></th>\n",
       "      <th></th>\n",
       "      <th></th>\n",
       "      <th></th>\n",
       "      <th></th>\n",
       "      <th></th>\n",
       "      <th></th>\n",
       "      <th></th>\n",
       "      <th></th>\n",
       "      <th></th>\n",
       "      <th></th>\n",
       "    </tr>\n",
       "  </thead>\n",
       "  <tbody>\n",
       "    <tr>\n",
       "      <th>1420114</th>\n",
       "      <td>1839</td>\n",
       "      <td>GENEVACR01</td>\n",
       "      <td>0.0</td>\n",
       "      <td>3.0</td>\n",
       "      <td>Muscatine</td>\n",
       "      <td>Geneva Creek</td>\n",
       "      <td>1</td>\n",
       "      <td>2.618152</td>\n",
       "      <td>662434.277915</td>\n",
       "      <td>4.590444e+06</td>\n",
       "      <td>662434.277915</td>\n",
       "      <td>4.590446e+06</td>\n",
       "      <td>7.74</td>\n",
       "      <td>0.247786</td>\n",
       "    </tr>\n",
       "    <tr>\n",
       "      <th>1810522</th>\n",
       "      <td>1663</td>\n",
       "      <td>ONIONCR01</td>\n",
       "      <td>0.0</td>\n",
       "      <td>18.0</td>\n",
       "      <td>Ames</td>\n",
       "      <td>Onion Creek</td>\n",
       "      <td>1</td>\n",
       "      <td>9.164474</td>\n",
       "      <td>442193.298010</td>\n",
       "      <td>4.655956e+06</td>\n",
       "      <td>442193.298010</td>\n",
       "      <td>4.655946e+06</td>\n",
       "      <td>46.44</td>\n",
       "      <td>0.155294</td>\n",
       "    </tr>\n",
       "    <tr>\n",
       "      <th>1608487</th>\n",
       "      <td>999</td>\n",
       "      <td>BFFLOCR02</td>\n",
       "      <td>0.0</td>\n",
       "      <td>5.0</td>\n",
       "      <td>Tiffin</td>\n",
       "      <td>Buffalo Creek</td>\n",
       "      <td>1</td>\n",
       "      <td>0.644552</td>\n",
       "      <td>610907.457440</td>\n",
       "      <td>4.619903e+06</td>\n",
       "      <td>610907.913208</td>\n",
       "      <td>4.619903e+06</td>\n",
       "      <td>12.90</td>\n",
       "      <td>0.109685</td>\n",
       "    </tr>\n",
       "    <tr>\n",
       "      <th>1562510</th>\n",
       "      <td>716</td>\n",
       "      <td>CHSLSCR01</td>\n",
       "      <td>0.0</td>\n",
       "      <td>12.0</td>\n",
       "      <td>Mason City</td>\n",
       "      <td>Cheslea Creek</td>\n",
       "      <td>1</td>\n",
       "      <td>5.093006</td>\n",
       "      <td>481616.291347</td>\n",
       "      <td>4.775701e+06</td>\n",
       "      <td>481611.198341</td>\n",
       "      <td>4.775701e+06</td>\n",
       "      <td>30.96</td>\n",
       "      <td>0.084617</td>\n",
       "    </tr>\n",
       "    <tr>\n",
       "      <th>1866513</th>\n",
       "      <td>732</td>\n",
       "      <td>LAKECR01</td>\n",
       "      <td>0.0</td>\n",
       "      <td>132.0</td>\n",
       "      <td>Lake City</td>\n",
       "      <td>Lake Creek</td>\n",
       "      <td>1</td>\n",
       "      <td>5.779862</td>\n",
       "      <td>352986.692115</td>\n",
       "      <td>4.680244e+06</td>\n",
       "      <td>352980.912252</td>\n",
       "      <td>4.680244e+06</td>\n",
       "      <td>340.56</td>\n",
       "      <td>0.080078</td>\n",
       "    </tr>\n",
       "    <tr>\n",
       "      <th>1668520</th>\n",
       "      <td>1034</td>\n",
       "      <td>CLRCRKS02</td>\n",
       "      <td>0.0</td>\n",
       "      <td>4.0</td>\n",
       "      <td>Williamsburg</td>\n",
       "      <td>Clear Creek Tributary</td>\n",
       "      <td>1</td>\n",
       "      <td>0.109322</td>\n",
       "      <td>590605.383395</td>\n",
       "      <td>4.615542e+06</td>\n",
       "      <td>590605.460697</td>\n",
       "      <td>4.615542e+06</td>\n",
       "      <td>10.32</td>\n",
       "      <td>0.072475</td>\n",
       "    </tr>\n",
       "    <tr>\n",
       "      <th>1626855</th>\n",
       "      <td>1000</td>\n",
       "      <td>BFFLOCR01</td>\n",
       "      <td>0.0</td>\n",
       "      <td>8.0</td>\n",
       "      <td>Tiffin</td>\n",
       "      <td>Buffalo Creek</td>\n",
       "      <td>1</td>\n",
       "      <td>2.031594</td>\n",
       "      <td>608189.180188</td>\n",
       "      <td>4.618651e+06</td>\n",
       "      <td>608187.743633</td>\n",
       "      <td>4.618653e+06</td>\n",
       "      <td>20.64</td>\n",
       "      <td>0.071545</td>\n",
       "    </tr>\n",
       "    <tr>\n",
       "      <th>1647014</th>\n",
       "      <td>1817</td>\n",
       "      <td>RAPIDTRB01</td>\n",
       "      <td>0.0</td>\n",
       "      <td>7.0</td>\n",
       "      <td>Morse</td>\n",
       "      <td>Rapid Creek Tributary</td>\n",
       "      <td>1</td>\n",
       "      <td>15.059111</td>\n",
       "      <td>630218.565405</td>\n",
       "      <td>4.623021e+06</td>\n",
       "      <td>630207.916997</td>\n",
       "      <td>4.623010e+06</td>\n",
       "      <td>18.06</td>\n",
       "      <td>0.061860</td>\n",
       "    </tr>\n",
       "    <tr>\n",
       "      <th>1714606</th>\n",
       "      <td>754</td>\n",
       "      <td>WLLWCR01</td>\n",
       "      <td>0.0</td>\n",
       "      <td>103.0</td>\n",
       "      <td>Mason City</td>\n",
       "      <td>Willow Creek</td>\n",
       "      <td>1</td>\n",
       "      <td>1.127142</td>\n",
       "      <td>483174.788015</td>\n",
       "      <td>4.777585e+06</td>\n",
       "      <td>483173.991005</td>\n",
       "      <td>4.777584e+06</td>\n",
       "      <td>265.74</td>\n",
       "      <td>0.057233</td>\n",
       "    </tr>\n",
       "    <tr>\n",
       "      <th>1685262</th>\n",
       "      <td>755</td>\n",
       "      <td>WLLWCR02</td>\n",
       "      <td>0.0</td>\n",
       "      <td>102.0</td>\n",
       "      <td>Mason City</td>\n",
       "      <td>Willow Creek</td>\n",
       "      <td>1</td>\n",
       "      <td>1.595796</td>\n",
       "      <td>482045.641749</td>\n",
       "      <td>4.778138e+06</td>\n",
       "      <td>482045.641749</td>\n",
       "      <td>4.778137e+06</td>\n",
       "      <td>263.16</td>\n",
       "      <td>0.057232</td>\n",
       "    </tr>\n",
       "  </tbody>\n",
       "</table>\n",
       "</div>"
      ],
      "text/plain": [
       "          #id  foreign_id  total_area  upstream_a          town  \\\n",
       "LINKNO                                                            \n",
       "1420114  1839  GENEVACR01         0.0         3.0     Muscatine   \n",
       "1810522  1663   ONIONCR01         0.0        18.0          Ames   \n",
       "1608487   999   BFFLOCR02         0.0         5.0        Tiffin   \n",
       "1562510   716   CHSLSCR01         0.0        12.0    Mason City   \n",
       "1866513   732    LAKECR01         0.0       132.0     Lake City   \n",
       "1668520  1034   CLRCRKS02         0.0         4.0  Williamsburg   \n",
       "1626855  1000   BFFLOCR01         0.0         8.0        Tiffin   \n",
       "1647014  1817  RAPIDTRB01         0.0         7.0         Morse   \n",
       "1714606   754    WLLWCR01         0.0       103.0    Mason City   \n",
       "1685262   755    WLLWCR02         0.0       102.0    Mason City   \n",
       "\n",
       "                         river  n   distance      feature_x     feature_y  \\\n",
       "LINKNO                                                                      \n",
       "1420114           Geneva Creek  1   2.618152  662434.277915  4.590444e+06   \n",
       "1810522            Onion Creek  1   9.164474  442193.298010  4.655956e+06   \n",
       "1608487          Buffalo Creek  1   0.644552  610907.457440  4.619903e+06   \n",
       "1562510          Cheslea Creek  1   5.093006  481616.291347  4.775701e+06   \n",
       "1866513             Lake Creek  1   5.779862  352986.692115  4.680244e+06   \n",
       "1668520  Clear Creek Tributary  1   0.109322  590605.383395  4.615542e+06   \n",
       "1626855          Buffalo Creek  1   2.031594  608189.180188  4.618651e+06   \n",
       "1647014  Rapid Creek Tributary  1  15.059111  630218.565405  4.623021e+06   \n",
       "1714606           Willow Creek  1   1.127142  483174.788015  4.777585e+06   \n",
       "1685262           Willow Creek  1   1.595796  482045.641749  4.778138e+06   \n",
       "\n",
       "             nearest_x     nearest_y  area_up_km   a_error  \n",
       "LINKNO                                                      \n",
       "1420114  662434.277915  4.590446e+06        7.74  0.247786  \n",
       "1810522  442193.298010  4.655946e+06       46.44  0.155294  \n",
       "1608487  610907.913208  4.619903e+06       12.90  0.109685  \n",
       "1562510  481611.198341  4.775701e+06       30.96  0.084617  \n",
       "1866513  352980.912252  4.680244e+06      340.56  0.080078  \n",
       "1668520  590605.460697  4.615542e+06       10.32  0.072475  \n",
       "1626855  608187.743633  4.618653e+06       20.64  0.071545  \n",
       "1647014  630207.916997  4.623010e+06       18.06  0.061860  \n",
       "1714606  483173.991005  4.777584e+06      265.74  0.057233  \n",
       "1685262  482045.641749  4.778137e+06      263.16  0.057232  "
      ]
     },
     "execution_count": 64,
     "metadata": {},
     "output_type": "execute_result"
    }
   ],
   "source": [
    "#Reads the network \n",
    "net = pd.read_parquet('../local_data/tables/links_ifis_w_downstream.gz')\n",
    "net.set_index('LINKNO', inplace = True)\n",
    "net['area_up_km'] = net['DSContArea'] / 1e6\n",
    "#Reads the IFC data\n",
    "ifc = pd.read_csv('../local_data/tables/ifc_linked_w_trimmed.csv')\n",
    "ifc.set_index('LINKNO', inplace = True, )\n",
    "ifc['area_up_km'] = ifc['upstream_a'] * 2.58\n",
    "#Compute the error at the links with area (non-area reported I checked them by hand)\n",
    "idx = ifc.index.intersection(net.index)\n",
    "ifc['a_error'] =(ifc.loc[idx, 'area_up_km'] - net.loc[idx, 'area_up_km'])/ifc.loc[idx, 'area_up_km']\n",
    "#Check the ones with largest area error\n",
    "_ifc = ifc.dropna()\n",
    "_ifc = _ifc.loc[np.isfinite(ifc['a_error'])]\n",
    "_ifc.sort_values('a_error', ascending=False).head(10)"
   ]
  },
  {
   "cell_type": "code",
   "execution_count": null,
   "id": "18a55e26-abbc-41dc-a2ba-3794799c3d7e",
   "metadata": {},
   "outputs": [],
   "source": []
  }
 ],
 "metadata": {
  "kernelspec": {
   "display_name": "Python General",
   "language": "python",
   "name": "general"
  },
  "language_info": {
   "codemirror_mode": {
    "name": "ipython",
    "version": 3
   },
   "file_extension": ".py",
   "mimetype": "text/x-python",
   "name": "python",
   "nbconvert_exporter": "python",
   "pygments_lexer": "ipython3",
   "version": "3.11.4"
  },
  "toc-autonumbering": true
 },
 "nbformat": 4,
 "nbformat_minor": 5
}
