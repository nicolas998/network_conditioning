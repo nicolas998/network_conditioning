{
 "cells": [
  {
   "cell_type": "code",
   "execution_count": 1,
   "id": "49e1bcb2-535f-4685-b46a-d121026e3bfd",
   "metadata": {
    "tags": []
   },
   "outputs": [],
   "source": [
    "import geopandas as gp \n",
    "import numpy as np \n",
    "import sys \n",
    "sys.path.insert(0, '/home/nicolas/hpchome/network_conditioning/codes/')\n",
    "import network_functions as netf\n",
    "import pylab as pl "
   ]
  },
  {
   "cell_type": "markdown",
   "id": "5b45121e-6b7e-4427-8c77-c9a9fc3746c8",
   "metadata": {},
   "source": [
    "# Read the data "
   ]
  },
  {
   "cell_type": "code",
   "execution_count": 2,
   "id": "6c7fea53-2647-4142-9f03-e91733bff266",
   "metadata": {
    "tags": []
   },
   "outputs": [],
   "source": [
    "net = gp.read_file('../maps/demnet_no_ghosts.shp')\n",
    "net.set_index('LINKNO', inplace = True)"
   ]
  },
  {
   "cell_type": "code",
   "execution_count": 6,
   "id": "2a2fa355-26ac-44e1-b5dc-f8acdc300609",
   "metadata": {
    "tags": []
   },
   "outputs": [],
   "source": [
    "link = 6811\n",
    "sub = netf.get_subwatershed(net, link)"
   ]
  },
  {
   "cell_type": "code",
   "execution_count": 19,
   "id": "4fbd7b05-0aeb-4fff-9421-e2f806c4b0cc",
   "metadata": {
    "tags": []
   },
   "outputs": [],
   "source": []
  },
  {
   "cell_type": "code",
   "execution_count": 21,
   "id": "46a62c68-4083-44d2-8bbc-4b55113270e9",
   "metadata": {
    "tags": []
   },
   "outputs": [],
   "source": [
    "def hlm_write_rvr(net, path):\n",
    "    '''Takes a network that has been proccessed with remove_virtual_links.py and extracts the rvr \n",
    "    file required for HLM at the designed path'''\n",
    "    parents_name = ['us%d' % i for i in range(1,11)]\n",
    "    with open(path,'w',newline='\\n') as f:\n",
    "        f.write('%d\\n' % net.shape[0])\n",
    "        f.write('\\n')\n",
    "        for link in net.index:\n",
    "            f.write('%d\\n' % link)\n",
    "            if net.loc[link,'us1'] == -1:\n",
    "                f.write('0\\n')\n",
    "            else:\n",
    "                parents = net.loc[link, parents_name].values\n",
    "                parents = parents[parents > 0]\n",
    "                f.write('%d ' % parents.size)\n",
    "                for parent in parents:\n",
    "                    f.write('%d ' % parent)\n",
    "                f.write('\\n\\n')            \n",
    "            f.write('\\n')\n",
    "        f.close()"
   ]
  },
  {
   "cell_type": "code",
   "execution_count": 22,
   "id": "856a59b4-6fc1-425c-aa61-96b1e25178e3",
   "metadata": {
    "tags": []
   },
   "outputs": [],
   "source": [
    "path = '../hlm_files/example.rvr'\n",
    "hlm_write_rvr(sub, '../hlm_files/example2.rvr')"
   ]
  },
  {
   "cell_type": "code",
   "execution_count": null,
   "id": "0f860f86-ce65-4fc0-b500-e5d3c0b50d53",
   "metadata": {},
   "outputs": [],
   "source": []
  }
 ],
 "metadata": {
  "kernelspec": {
   "display_name": "Python 3 (ipykernel)",
   "language": "python",
   "name": "python3"
  },
  "language_info": {
   "codemirror_mode": {
    "name": "ipython",
    "version": 3
   },
   "file_extension": ".py",
   "mimetype": "text/x-python",
   "name": "python",
   "nbconvert_exporter": "python",
   "pygments_lexer": "ipython3",
   "version": "3.11.4"
  }
 },
 "nbformat": 4,
 "nbformat_minor": 5
}
