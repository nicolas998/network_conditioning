{
 "cells": [
  {
   "cell_type": "markdown",
   "id": "2f324ae4",
   "metadata": {},
   "source": [
    "# Load packages and data "
   ]
  },
  {
   "cell_type": "code",
   "execution_count": 57,
   "id": "0710247b",
   "metadata": {
    "ExecuteTime": {
     "end_time": "2023-11-02T13:19:43.791905Z",
     "start_time": "2023-11-02T13:19:43.786822Z"
    }
   },
   "outputs": [],
   "source": [
    "import numpy as np \n",
    "import pylab as pl \n",
    "import dataretrieval.nwis as nwis\n",
    "import pandas as pd \n",
    "import warnings\n",
    "warnings.filterwarnings('ignore')"
   ]
  },
  {
   "cell_type": "markdown",
   "id": "7429faa9",
   "metadata": {},
   "source": [
    "# Prepare final usgs gauges"
   ]
  },
  {
   "cell_type": "code",
   "execution_count": 74,
   "id": "2b41fc2c",
   "metadata": {
    "ExecuteTime": {
     "end_time": "2023-11-02T13:29:08.620832Z",
     "start_time": "2023-11-02T13:29:08.601180Z"
    }
   },
   "outputs": [],
   "source": [
    "usgs_linked = pd.read_csv('../local_data/tables/usgs_temporal_linked_w_trimmed.csv')\n",
    "usgs_linked.set_index('STAID', inplace = True)\n",
    "usgs_final = pd.read_csv('../local_data/tables/usgs_final_list.txt')\n",
    "usgs_final.set_index('usgs_id', inplace=True)"
   ]
  },
  {
   "cell_type": "markdown",
   "id": "f4a335a8",
   "metadata": {},
   "source": [
    "## Remove gauges that must not be present "
   ]
  },
  {
   "cell_type": "code",
   "execution_count": 75,
   "id": "1a06638d",
   "metadata": {
    "ExecuteTime": {
     "end_time": "2023-11-02T13:29:10.607600Z",
     "start_time": "2023-11-02T13:29:10.601339Z"
    }
   },
   "outputs": [],
   "source": [
    "idx_remove = usgs_final.loc[usgs_final.status == 'REMOVE'].index\n",
    "usgs_linked.drop(idx_remove, inplace=True)"
   ]
  },
  {
   "cell_type": "markdown",
   "id": "68c91c41",
   "metadata": {},
   "source": [
    "## Add gauges "
   ]
  },
  {
   "cell_type": "markdown",
   "id": "f49a7425",
   "metadata": {},
   "source": [
    "### Get the indformation of the gauges to add "
   ]
  },
  {
   "cell_type": "code",
   "execution_count": 76,
   "id": "53e9264c",
   "metadata": {
    "ExecuteTime": {
     "end_time": "2023-11-02T13:29:11.997263Z",
     "start_time": "2023-11-02T13:29:11.992260Z"
    }
   },
   "outputs": [],
   "source": [
    "idx_add = usgs_final.loc[usgs_final.status == 'ADD'].index"
   ]
  },
  {
   "cell_type": "code",
   "execution_count": 82,
   "id": "e4b1b857",
   "metadata": {
    "ExecuteTime": {
     "end_time": "2023-11-02T13:29:53.352813Z",
     "start_time": "2023-11-02T13:29:53.192942Z"
    }
   },
   "outputs": [],
   "source": [
    "sites = ['0%d' % i for i in idx_add]\n",
    "info = nwis.get_info(sites = sites)#'0%d'%idx_add[0])\n",
    "new_gauges = info[0][['site_no','dec_lat_va', 'dec_long_va','drain_area_va', 'station_nm' ]]"
   ]
  },
  {
   "cell_type": "code",
   "execution_count": 83,
   "id": "21e99371",
   "metadata": {
    "ExecuteTime": {
     "end_time": "2023-11-02T13:29:53.473719Z",
     "start_time": "2023-11-02T13:29:53.464565Z"
    }
   },
   "outputs": [],
   "source": [
    "new_gauges.rename(columns={'station_nm':'STANAME', 'drain_area_va':'DRAIN_SQKM',\n",
    "                          'dec_long_va':'lon','dec_lat_va':'lat'}, inplace = True)\n",
    "new_gauges['DRAIN_SQKM'] = new_gauges['DRAIN_SQKM']*2.5899\n",
    "new_gauges.set_index('site_no', inplace = True)\n",
    "new_gauges['LINKNO'] = -9999"
   ]
  },
  {
   "cell_type": "markdown",
   "id": "2bea2684",
   "metadata": {
    "ExecuteTime": {
     "end_time": "2023-11-02T13:19:47.318170Z",
     "start_time": "2023-11-02T13:19:47.312895Z"
    }
   },
   "source": [
    "### Get the lat long of the previous gauges "
   ]
  },
  {
   "cell_type": "code",
   "execution_count": 79,
   "id": "78fdd32c",
   "metadata": {
    "ExecuteTime": {
     "end_time": "2023-11-02T13:29:14.959367Z",
     "start_time": "2023-11-02T13:29:14.528472Z"
    }
   },
   "outputs": [],
   "source": [
    "sites = ['0%d' % i for i in usgs_linked.index]\n",
    "info = nwis.get_info(sites = sites)#'0%d'%idx_add[0])\n",
    "usgs_linked_coord = info[0][['site_no','dec_lat_va', 'dec_long_va',]]\n",
    "usgs_linked_coord.set_index('site_no', inplace = True)\n",
    "usgs_linked.index = sites\n",
    "usgs_linked['lat'] = usgs_linked_coord.loc[usgs_linked.index, 'dec_lat_va']\n",
    "usgs_linked['lon'] = usgs_linked_coord.loc[usgs_linked.index, 'dec_long_va']"
   ]
  },
  {
   "cell_type": "code",
   "execution_count": 87,
   "id": "c663eb2c",
   "metadata": {
    "ExecuteTime": {
     "end_time": "2023-11-02T13:30:36.703811Z",
     "start_time": "2023-11-02T13:30:36.697510Z"
    }
   },
   "outputs": [],
   "source": [
    "usgs_final = pd.concat([usgs_linked, new_gauges])"
   ]
  },
  {
   "cell_type": "code",
   "execution_count": 89,
   "id": "959fc80f",
   "metadata": {
    "ExecuteTime": {
     "end_time": "2023-11-02T13:36:28.182729Z",
     "start_time": "2023-11-02T13:36:28.127327Z"
    }
   },
   "outputs": [],
   "source": [
    "usgs_final.reset_index().to_csv('../local_data/tables/usgs_final_list.csv')"
   ]
  },
  {
   "cell_type": "code",
   "execution_count": null,
   "id": "c04407f6",
   "metadata": {},
   "outputs": [],
   "source": []
  }
 ],
 "metadata": {
  "kernelspec": {
   "display_name": "Python 3",
   "language": "python",
   "name": "python3"
  },
  "language_info": {
   "codemirror_mode": {
    "name": "ipython",
    "version": 3
   },
   "file_extension": ".py",
   "mimetype": "text/x-python",
   "name": "python",
   "nbconvert_exporter": "python",
   "pygments_lexer": "ipython3",
   "version": "3.8.13"
  },
  "toc": {
   "base_numbering": 1,
   "nav_menu": {},
   "number_sections": true,
   "sideBar": true,
   "skip_h1_title": false,
   "title_cell": "Table of Contents",
   "title_sidebar": "Contents",
   "toc_cell": false,
   "toc_position": {},
   "toc_section_display": true,
   "toc_window_display": false
  }
 },
 "nbformat": 4,
 "nbformat_minor": 5
}
